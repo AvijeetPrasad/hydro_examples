{
 "metadata": {
  "name": "",
  "signature": "sha256:69c558d16179c6cc1c5795b485eb5d687d6b4cc4340a6abd8bba2c61e6ac6173"
 },
 "nbformat": 3,
 "nbformat_minor": 0,
 "worksheets": [
  {
   "cells": [
    {
     "cell_type": "code",
     "collapsed": false,
     "input": [
      "from sympy import init_session\n",
      "init_session()"
     ],
     "language": "python",
     "metadata": {},
     "outputs": [
      {
       "output_type": "stream",
       "stream": "stdout",
       "text": [
        "IPython console for SymPy 0.7.7.dev (Python 2.7.8-64-bit) (ground types: gmpy)\n",
        "\n",
        "These commands were executed:\n",
        ">>> from __future__ import division\n",
        ">>> from sympy import *\n",
        ">>> x, y, z, t = symbols('x y z t')\n",
        ">>> k, m, n = symbols('k m n', integer=True)\n",
        ">>> f, g, h = symbols('f g h', cls=Function)\n",
        ">>> init_printing()\n",
        "\n",
        "Documentation can be found at http://docs.sympy.org/dev\n"
       ]
      }
     ],
     "prompt_number": 1
    },
    {
     "cell_type": "heading",
     "level": 2,
     "metadata": {},
     "source": [
      "Quadratic"
     ]
    },
    {
     "cell_type": "code",
     "collapsed": false,
     "input": [
      "a, b, c = symbols(\"a b c\")\n",
      "x0 = symbols(\"x0\")\n",
      "f = a*(x-x0)**2 + b*(x-x0) + c\n",
      "f"
     ],
     "language": "python",
     "metadata": {},
     "outputs": [
      {
       "latex": [
        "$$a \\left(x - x_{0}\\right)^{2} + b \\left(x - x_{0}\\right) + c$$"
       ],
       "metadata": {},
       "output_type": "pyout",
       "png": "[encoded data removed]",
       "prompt_number": 62,
       "text": [
        "          2                 \n",
        "a\u22c5(x - x\u2080)  + b\u22c5(x - x\u2080) + c"
       ]
      }
     ],
     "prompt_number": 62
    },
    {
     "cell_type": "code",
     "collapsed": false,
     "input": [
      "dx = symbols(\"\\Delta\")"
     ],
     "language": "python",
     "metadata": {},
     "outputs": [],
     "prompt_number": 63
    },
    {
     "cell_type": "heading",
     "level": 3,
     "metadata": {},
     "source": [
      "constraints"
     ]
    },
    {
     "cell_type": "code",
     "collapsed": false,
     "input": [
      "fm, f0, fp = symbols(\"f_{i-1} f_i f_{i+1}\")\n",
      "#xm32, xm12, xp12, xp32 = symbols(\"x_{i-3/2} x_{i-1/2} x_{i+1/2} x_{i+3/2}\")\n",
      "xm32 = x0 - Rational(3,2)*dx\n",
      "xm12 = x0 - Rational(1,2)*dx\n",
      "xp12 = x0 + Rational(1,2)*dx\n",
      "xp32 = x0 + Rational(3,2)*dx"
     ],
     "language": "python",
     "metadata": {},
     "outputs": [],
     "prompt_number": 52
    },
    {
     "cell_type": "code",
     "collapsed": false,
     "input": [
      "A = simplify(integrate(f/dx, (x, xm32, xm12)))\n",
      "B = simplify(integrate(f/dx, (x, xm12, xp12)))\n",
      "C = simplify(integrate(f/dx, (x, xp12, xp32)))"
     ],
     "language": "python",
     "metadata": {},
     "outputs": [],
     "prompt_number": 57
    },
    {
     "cell_type": "code",
     "collapsed": false,
     "input": [
      "A"
     ],
     "language": "python",
     "metadata": {},
     "outputs": [
      {
       "latex": [
        "$$\\frac{13 a}{12} \\Delta^{2} - \\Delta b + c$$"
       ],
       "metadata": {},
       "output_type": "pyout",
       "png": "[encoded data removed]",
       "prompt_number": 58,
       "text": [
        "         2                 \n",
        "13\u22c5\\Delta \u22c5a               \n",
        "\u2500\u2500\u2500\u2500\u2500\u2500\u2500\u2500\u2500\u2500\u2500\u2500 - \\Delta\u22c5b + c\n",
        "     12                    "
       ]
      }
     ],
     "prompt_number": 58
    },
    {
     "cell_type": "code",
     "collapsed": false,
     "input": [
      "solve([A-fm, B-f0, C-fp], [a,b,c])"
     ],
     "language": "python",
     "metadata": {},
     "outputs": [
      {
       "latex": [
        "$$\\left \\{ a : \\frac{1}{2 \\Delta^{2}} \\left(- 2 f_{i} + f_{{i+1}} + f_{{i-1}}\\right), \\quad b : \\frac{f_{{i+1}} - f_{{i-1}}}{2 \\Delta}, \\quad c : \\frac{13 f_{i}}{12} - \\frac{f_{{i+1}}}{24} - \\frac{f_{{i-1}}}{24}\\right \\}$$"
       ],
       "metadata": {},
       "output_type": "pyout",
       "png": "[encoded data removed]",
       "prompt_number": 60,
       "text": [
        "\u23a7   -2\u22c5f\u1d62 + f_{i+1} + f_{i-1}     f_{i+1} - f_{i-1}     13\u22c5f\u1d62   f_{i+1}   f_{i\n",
        "\u23aaa: \u2500\u2500\u2500\u2500\u2500\u2500\u2500\u2500\u2500\u2500\u2500\u2500\u2500\u2500\u2500\u2500\u2500\u2500\u2500\u2500\u2500\u2500\u2500\u2500\u2500, b: \u2500\u2500\u2500\u2500\u2500\u2500\u2500\u2500\u2500\u2500\u2500\u2500\u2500\u2500\u2500\u2500\u2500, c: \u2500\u2500\u2500\u2500\u2500 - \u2500\u2500\u2500\u2500\u2500\u2500\u2500 - \u2500\u2500\u2500\u2500\n",
        "\u23a8                   2                  2\u22c5\\Delta           12       24        2\n",
        "\u23aa           2\u22c5\\Delta                                                          \n",
        "\u23a9                                                                             \n",
        "\n",
        "-1}\u23ab\n",
        "\u2500\u2500\u2500\u23aa\n",
        "4  \u23ac\n",
        "   \u23aa\n",
        "   \u23ad"
       ]
      }
     ],
     "prompt_number": 60
    },
    {
     "cell_type": "heading",
     "level": 2,
     "metadata": {},
     "source": [
      "Quartic"
     ]
    },
    {
     "cell_type": "code",
     "collapsed": false,
     "input": [
      "a, b, c, d, e = symbols(\"a b c d e\")\n",
      "x0 = symbols(\"x0\")\n",
      "f = a*(x-x0)**4 + b*(x-x0)**3 + c*(x-x0)**2 + d*(x-x0) + e\n",
      "f"
     ],
     "language": "python",
     "metadata": {},
     "outputs": [
      {
       "latex": [
        "$$a \\left(x - x_{0}\\right)^{4} + b \\left(x - x_{0}\\right)^{3} + c \\left(x - x_{0}\\right)^{2} + d \\left(x - x_{0}\\right) + e$$"
       ],
       "metadata": {},
       "output_type": "pyout",
       "png": "[encoded data removed]",
       "prompt_number": 91,
       "text": [
        "          4             3             2                 \n",
        "a\u22c5(x - x\u2080)  + b\u22c5(x - x\u2080)  + c\u22c5(x - x\u2080)  + d\u22c5(x - x\u2080) + e"
       ]
      }
     ],
     "prompt_number": 91
    },
    {
     "cell_type": "code",
     "collapsed": false,
     "input": [
      "fm2, fm, f0, fp, fp2 = symbols(\"f_{i-2} f_{i-1} f_i f_{i+1} f_{i+2}\")\n",
      "#xm32, xm12, xp12, xp32 = symbols(\"x_{i-3/2} x_{i-1/2} x_{i+1/2} x_{i+3/2}\")\n",
      "xm52 = x0 - Rational(5,2)*dx\n",
      "xm32 = x0 - Rational(3,2)*dx\n",
      "xm12 = x0 - Rational(1,2)*dx\n",
      "xp12 = x0 + Rational(1,2)*dx\n",
      "xp32 = x0 + Rational(3,2)*dx\n",
      "xp52 = x0 + Rational(5,2)*dx"
     ],
     "language": "python",
     "metadata": {},
     "outputs": [],
     "prompt_number": 92
    },
    {
     "cell_type": "code",
     "collapsed": false,
     "input": [
      "A = simplify(integrate(f/dx, (x, xm52, xm32)))\n",
      "B = simplify(integrate(f/dx, (x, xm32, xm12)))\n",
      "C = simplify(integrate(f/dx, (x, xm12, xp12)))\n",
      "D = simplify(integrate(f/dx, (x, xp12, xp32)))\n",
      "E = simplify(integrate(f/dx, (x, xp32, xp52)))"
     ],
     "language": "python",
     "metadata": {},
     "outputs": [],
     "prompt_number": 99
    },
    {
     "cell_type": "code",
     "collapsed": false,
     "input": [
      "solve([A-fm2, B-fm, C-f0, D-fp, E-fp2], [a,b,c,d,e], check=False)"
     ],
     "language": "python",
     "metadata": {},
     "outputs": [
      {
       "latex": [
        "$$\\left \\{ a : \\frac{1}{24 \\Delta^{4}} \\left(6 f_{i} - 4 f_{{i+1}} + f_{{i+2}} - 4 f_{{i-1}} + f_{{i-2}}\\right), \\quad b : \\frac{1}{12 \\Delta^{3}} \\left(- 2 f_{{i+1}} + f_{{i+2}} + 2 f_{{i-1}} - f_{{i-2}}\\right), \\quad c : \\frac{1}{16 \\Delta^{2}} \\left(- 22 f_{i} + 12 f_{{i+1}} - f_{{i+2}} + 12 f_{{i-1}} - f_{{i-2}}\\right), \\quad d : \\frac{1}{48 \\Delta} \\left(34 f_{{i+1}} - 5 f_{{i+2}} - 34 f_{{i-1}} + 5 f_{{i-2}}\\right), \\quad e : \\frac{1067 f_{i}}{960} - \\frac{29 f_{{i+1}}}{480} + \\frac{3 f_{{i+2}}}{640} - \\frac{29 f_{{i-1}}}{480} + \\frac{3 f_{{i-2}}}{640}\\right \\}$$"
       ],
       "metadata": {},
       "output_type": "pyout",
       "png": "[encoded data removed]",
       "prompt_number": 100,
       "text": [
        "\u23a7   6\u22c5f\u1d62 - 4\u22c5f_{i+1} + f_{i+2} - 4\u22c5f_{i-1} + f_{i-2}     -2\u22c5f_{i+1} + f_{i+2} \n",
        "\u23aaa: \u2500\u2500\u2500\u2500\u2500\u2500\u2500\u2500\u2500\u2500\u2500\u2500\u2500\u2500\u2500\u2500\u2500\u2500\u2500\u2500\u2500\u2500\u2500\u2500\u2500\u2500\u2500\u2500\u2500\u2500\u2500\u2500\u2500\u2500\u2500\u2500\u2500\u2500\u2500\u2500\u2500\u2500\u2500\u2500\u2500\u2500\u2500\u2500, b: \u2500\u2500\u2500\u2500\u2500\u2500\u2500\u2500\u2500\u2500\u2500\u2500\u2500\u2500\u2500\u2500\u2500\u2500\u2500\u2500\u2500\n",
        "\u23a8                               4                                             \n",
        "\u23aa                      24\u22c5\\Delta                                         12\u22c5\\D\n",
        "\u23a9                                                                             \n",
        "\n",
        "+ 2\u22c5f_{i-1} - f_{i-2}     -22\u22c5f\u1d62 + 12\u22c5f_{i+1} - f_{i+2} + 12\u22c5f_{i-1} - f_{i-2}\n",
        "\u2500\u2500\u2500\u2500\u2500\u2500\u2500\u2500\u2500\u2500\u2500\u2500\u2500\u2500\u2500\u2500\u2500\u2500\u2500\u2500\u2500, c: \u2500\u2500\u2500\u2500\u2500\u2500\u2500\u2500\u2500\u2500\u2500\u2500\u2500\u2500\u2500\u2500\u2500\u2500\u2500\u2500\u2500\u2500\u2500\u2500\u2500\u2500\u2500\u2500\u2500\u2500\u2500\u2500\u2500\u2500\u2500\u2500\u2500\u2500\u2500\u2500\u2500\u2500\u2500\u2500\u2500\u2500\u2500\u2500\u2500\u2500\u2500\u2500\n",
        "    3                                                   2                     \n",
        "elta                                           16\u22c5\\Delta                      \n",
        "                                                                              \n",
        "\n",
        "     34\u22c5f_{i+1} - 5\u22c5f_{i+2} - 34\u22c5f_{i-1} + 5\u22c5f_{i-2}     1067\u22c5f\u1d62   29\u22c5f_{i+1} \n",
        ", d: \u2500\u2500\u2500\u2500\u2500\u2500\u2500\u2500\u2500\u2500\u2500\u2500\u2500\u2500\u2500\u2500\u2500\u2500\u2500\u2500\u2500\u2500\u2500\u2500\u2500\u2500\u2500\u2500\u2500\u2500\u2500\u2500\u2500\u2500\u2500\u2500\u2500\u2500\u2500\u2500\u2500\u2500\u2500\u2500\u2500\u2500\u2500, e: \u2500\u2500\u2500\u2500\u2500\u2500\u2500 - \u2500\u2500\u2500\u2500\u2500\u2500\u2500\u2500\u2500\u2500 \n",
        "                        48\u22c5\\Delta                          960        480     \n",
        "                                                                              \n",
        "                                                                              \n",
        "\n",
        "  3\u22c5f_{i+2}   29\u22c5f_{i-1}   3\u22c5f_{i-2}\u23ab\n",
        "+ \u2500\u2500\u2500\u2500\u2500\u2500\u2500\u2500\u2500 - \u2500\u2500\u2500\u2500\u2500\u2500\u2500\u2500\u2500\u2500 + \u2500\u2500\u2500\u2500\u2500\u2500\u2500\u2500\u2500\u23aa\n",
        "     640         480          640   \u23ac\n",
        "                                    \u23aa\n",
        "                                    \u23ad"
       ]
      }
     ],
     "prompt_number": 100
    },
    {
     "cell_type": "code",
     "collapsed": false,
     "input": [],
     "language": "python",
     "metadata": {},
     "outputs": []
    }
   ],
   "metadata": {}
  }
 ]
}