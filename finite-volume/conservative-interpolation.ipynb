{
 "metadata": {
  "name": "",
  "signature": "sha256:e7e6ebdd109d4365b5d93fee1fd5aa01566c7fa19ed5127219c943bb1c3e794c"
 },
 "nbformat": 3,
 "nbformat_minor": 0,
 "worksheets": [
  {
   "cells": [
    {
     "cell_type": "code",
     "collapsed": false,
     "input": [
      "from sympy import init_session\n",
      "init_session()"
     ],
     "language": "python",
     "metadata": {},
     "outputs": [
      {
       "output_type": "stream",
       "stream": "stdout",
       "text": [
        "IPython console for SymPy 0.7.7.dev (Python 2.7.8-64-bit) (ground types: gmpy)\n",
        "\n",
        "These commands were executed:\n",
        ">>> from __future__ import division\n",
        ">>> from sympy import *\n",
        ">>> x, y, z, t = symbols('x y z t')\n",
        ">>> k, m, n = symbols('k m n', integer=True)\n",
        ">>> f, g, h = symbols('f g h', cls=Function)\n",
        ">>> init_printing()\n",
        "\n",
        "Documentation can be found at http://docs.sympy.org/dev\n"
       ]
      }
     ],
     "prompt_number": 4
    },
    {
     "cell_type": "heading",
     "level": 2,
     "metadata": {},
     "source": [
      "Quadratic"
     ]
    },
    {
     "cell_type": "markdown",
     "metadata": {},
     "source": [
      "We want to construct a quadratic polynomal through that points $x_{i-1}$, $x_i$, $x_{i+1}$ that gives the correct averages,\n",
      "$f_{i-1}$, $f_i$, and $f_{i-1}$ when integrated over the volume, e.g.\n",
      "\n",
      "$$\\frac{1}{\\Delta x} \\int_{x_{i-1/2}}^{x_{i+1/2}} f(x) dx = f_i$$\n",
      "\n",
      "There are 3 unknowns in the quadratic and three constraints, so this is a linear system we can solve."
     ]
    },
    {
     "cell_type": "markdown",
     "metadata": {},
     "source": [
      "Define the quadratic polynomial"
     ]
    },
    {
     "cell_type": "code",
     "collapsed": false,
     "input": [
      "a, b, c = symbols(\"a b c\")\n",
      "x0 = symbols(\"x0\")\n",
      "f = a*(x-x0)**2 + b*(x-x0) + c\n",
      "f"
     ],
     "language": "python",
     "metadata": {},
     "outputs": [
      {
       "latex": [
        "$$a \\left(x - x_{0}\\right)^{2} + b \\left(x - x_{0}\\right) + c$$"
       ],
       "metadata": {},
       "output_type": "pyout",
       "png": "[encoded data removed]",
       "prompt_number": 5,
       "text": [
        "          2                 \n",
        "a\u22c5(x - x\u2080)  + b\u22c5(x - x\u2080) + c"
       ]
      }
     ],
     "prompt_number": 5
    },
    {
     "cell_type": "code",
     "collapsed": false,
     "input": [
      "dx = symbols(\"\\Delta\")"
     ],
     "language": "python",
     "metadata": {},
     "outputs": [],
     "prompt_number": 6
    },
    {
     "cell_type": "heading",
     "level": 3,
     "metadata": {},
     "source": [
      "constraints"
     ]
    },
    {
     "cell_type": "markdown",
     "metadata": {},
     "source": [
      "Define the 3 constraint equations---here we set them up construct $A$, $B$, and $C$ as the integrals over the 3 control volumes"
     ]
    },
    {
     "cell_type": "code",
     "collapsed": false,
     "input": [
      "fm, f0, fp = symbols(\"f_{i-1} f_i f_{i+1}\")\n",
      "#xm32, xm12, xp12, xp32 = symbols(\"x_{i-3/2} x_{i-1/2} x_{i+1/2} x_{i+3/2}\")\n",
      "xm32 = x0 - Rational(3,2)*dx\n",
      "xm12 = x0 - Rational(1,2)*dx\n",
      "xp12 = x0 + Rational(1,2)*dx\n",
      "xp32 = x0 + Rational(3,2)*dx"
     ],
     "language": "python",
     "metadata": {},
     "outputs": [],
     "prompt_number": 7
    },
    {
     "cell_type": "code",
     "collapsed": false,
     "input": [
      "A = simplify(integrate(f/dx, (x, xm32, xm12)))\n",
      "B = simplify(integrate(f/dx, (x, xm12, xp12)))\n",
      "C = simplify(integrate(f/dx, (x, xp12, xp32)))"
     ],
     "language": "python",
     "metadata": {},
     "outputs": [],
     "prompt_number": 8
    },
    {
     "cell_type": "markdown",
     "metadata": {},
     "source": [
      "The analytic forms of the integrals"
     ]
    },
    {
     "cell_type": "code",
     "collapsed": false,
     "input": [
      "A, B, C"
     ],
     "language": "python",
     "metadata": {},
     "outputs": [
      {
       "latex": [
        "$$\\left ( \\frac{13 a}{12} \\Delta^{2} - \\Delta b + c, \\quad \\frac{\\Delta^{2} a}{12} + c, \\quad \\frac{13 a}{12} \\Delta^{2} + \\Delta b + c\\right )$$"
       ],
       "metadata": {},
       "output_type": "pyout",
       "png": "[encoded data removed]",
       "prompt_number": 11,
       "text": [
        "\u239b         2                         2                 2                 \u239e\n",
        "\u239c13\u22c5\\Delta \u22c5a                 \\Delta \u22c5a      13\u22c5\\Delta \u22c5a               \u239f\n",
        "\u239c\u2500\u2500\u2500\u2500\u2500\u2500\u2500\u2500\u2500\u2500\u2500\u2500 - \\Delta\u22c5b + c, \u2500\u2500\u2500\u2500\u2500\u2500\u2500\u2500\u2500 + c, \u2500\u2500\u2500\u2500\u2500\u2500\u2500\u2500\u2500\u2500\u2500\u2500 + \\Delta\u22c5b + c\u239f\n",
        "\u239d     12                          12              12                    \u23a0"
       ]
      }
     ],
     "prompt_number": 11
    },
    {
     "cell_type": "markdown",
     "metadata": {},
     "source": [
      "Our linear system is now:\n",
      "\n",
      "$$A = f_{i-1}$$\n",
      "$$B = f_i$$\n",
      "$$C = f_{i+1}$$"
     ]
    },
    {
     "cell_type": "markdown",
     "metadata": {},
     "source": [
      "Now find the coefficients of the polynomial"
     ]
    },
    {
     "cell_type": "code",
     "collapsed": false,
     "input": [
      "coeffs = solve([A-fm, B-f0, C-fp], [a,b,c])\n",
      "coeffs"
     ],
     "language": "python",
     "metadata": {},
     "outputs": [
      {
       "latex": [
        "$$\\left \\{ a : \\frac{1}{2 \\Delta^{2}} \\left(- 2 f_{i} + f_{{i+1}} + f_{{i-1}}\\right), \\quad b : \\frac{f_{{i+1}} - f_{{i-1}}}{2 \\Delta}, \\quad c : \\frac{13 f_{i}}{12} - \\frac{f_{{i+1}}}{24} - \\frac{f_{{i-1}}}{24}\\right \\}$$"
       ],
       "metadata": {},
       "output_type": "pyout",
       "png": "[encoded data removed]",
       "prompt_number": 12,
       "text": [
        "\u23a7   -2\u22c5f\u1d62 + f_{i+1} + f_{i-1}     f_{i+1} - f_{i-1}     13\u22c5f\u1d62   f_{i+1}   f_{i\n",
        "\u23aaa: \u2500\u2500\u2500\u2500\u2500\u2500\u2500\u2500\u2500\u2500\u2500\u2500\u2500\u2500\u2500\u2500\u2500\u2500\u2500\u2500\u2500\u2500\u2500\u2500\u2500, b: \u2500\u2500\u2500\u2500\u2500\u2500\u2500\u2500\u2500\u2500\u2500\u2500\u2500\u2500\u2500\u2500\u2500, c: \u2500\u2500\u2500\u2500\u2500 - \u2500\u2500\u2500\u2500\u2500\u2500\u2500 - \u2500\u2500\u2500\u2500\n",
        "\u23a8                   2                  2\u22c5\\Delta           12       24        2\n",
        "\u23aa           2\u22c5\\Delta                                                          \n",
        "\u23a9                                                                             \n",
        "\n",
        "-1}\u23ab\n",
        "\u2500\u2500\u2500\u23aa\n",
        "4  \u23ac\n",
        "   \u23aa\n",
        "   \u23ad"
       ]
      }
     ],
     "prompt_number": 12
    },
    {
     "cell_type": "markdown",
     "metadata": {},
     "source": [
      "And in pretty form, here's the polynomial"
     ]
    },
    {
     "cell_type": "code",
     "collapsed": false,
     "input": [
      "f.subs(a,coeffs[a]).subs(b,coeffs[b]).subs(c,coeffs[c])"
     ],
     "language": "python",
     "metadata": {},
     "outputs": [
      {
       "latex": [
        "$$\\frac{13 f_{i}}{12} - \\frac{f_{{i+1}}}{24} - \\frac{f_{{i-1}}}{24} + \\frac{1}{2 \\Delta} \\left(f_{{i+1}} - f_{{i-1}}\\right) \\left(x - x_{0}\\right) + \\frac{\\left(x - x_{0}\\right)^{2}}{2 \\Delta^{2}} \\left(- 2 f_{i} + f_{{i+1}} + f_{{i-1}}\\right)$$"
       ],
       "metadata": {},
       "output_type": "pyout",
       "png": "[encoded data removed]",
       "prompt_number": 16,
       "text": [
        "                                                                   2          \n",
        "13\u22c5f\u1d62   f_{i+1}   f_{i-1}   (f_{i+1} - f_{i-1})\u22c5(x - x\u2080)   (x - x\u2080) \u22c5(-2\u22c5f\u1d62 + \n",
        "\u2500\u2500\u2500\u2500\u2500 - \u2500\u2500\u2500\u2500\u2500\u2500\u2500 - \u2500\u2500\u2500\u2500\u2500\u2500\u2500 + \u2500\u2500\u2500\u2500\u2500\u2500\u2500\u2500\u2500\u2500\u2500\u2500\u2500\u2500\u2500\u2500\u2500\u2500\u2500\u2500\u2500\u2500\u2500\u2500\u2500\u2500\u2500\u2500 + \u2500\u2500\u2500\u2500\u2500\u2500\u2500\u2500\u2500\u2500\u2500\u2500\u2500\u2500\u2500\u2500\u2500\u2500\u2500\n",
        "  12       24        24               2\u22c5\\Delta                                \n",
        "                                                                         2\u22c5\\De\n",
        "\n",
        "                  \n",
        "f_{i+1} + f_{i-1})\n",
        "\u2500\u2500\u2500\u2500\u2500\u2500\u2500\u2500\u2500\u2500\u2500\u2500\u2500\u2500\u2500\u2500\u2500\u2500\n",
        "   2              \n",
        "lta               "
       ]
      }
     ],
     "prompt_number": 16
    },
    {
     "cell_type": "heading",
     "level": 2,
     "metadata": {},
     "source": [
      "Quartic"
     ]
    },
    {
     "cell_type": "markdown",
     "metadata": {},
     "source": [
      "Now we define a quartic polynomial that gives the correct averages over 5 zones, $x_{i-2}$, $x_{i-1}$, $x_i$, $x_{i+1}$, $x_{i+2}$,\n",
      "with zone averages $f_{i-2}$, $f_{i-1}$, $f_i$, $f_{i+1}$, $f_{i+2}$"
     ]
    },
    {
     "cell_type": "code",
     "collapsed": false,
     "input": [
      "a, b, c, d, e = symbols(\"a b c d e\")\n",
      "x0 = symbols(\"x0\")\n",
      "f = a*(x-x0)**4 + b*(x-x0)**3 + c*(x-x0)**2 + d*(x-x0) + e\n",
      "f"
     ],
     "language": "python",
     "metadata": {},
     "outputs": [
      {
       "latex": [
        "$$a \\left(x - x_{0}\\right)^{4} + b \\left(x - x_{0}\\right)^{3} + c \\left(x - x_{0}\\right)^{2} + d \\left(x - x_{0}\\right) + e$$"
       ],
       "metadata": {},
       "output_type": "pyout",
       "png": "[encoded data removed]",
       "prompt_number": 18,
       "text": [
        "          4             3             2                 \n",
        "a\u22c5(x - x\u2080)  + b\u22c5(x - x\u2080)  + c\u22c5(x - x\u2080)  + d\u22c5(x - x\u2080) + e"
       ]
      }
     ],
     "prompt_number": 18
    },
    {
     "cell_type": "markdown",
     "metadata": {},
     "source": [
      "Now we perform the integrals of $f(x)$ over each zone"
     ]
    },
    {
     "cell_type": "code",
     "collapsed": false,
     "input": [
      "fm2, fm, f0, fp, fp2 = symbols(\"f_{i-2} f_{i-1} f_i f_{i+1} f_{i+2}\")\n",
      "#xm32, xm12, xp12, xp32 = symbols(\"x_{i-3/2} x_{i-1/2} x_{i+1/2} x_{i+3/2}\")\n",
      "xm52 = x0 - Rational(5,2)*dx\n",
      "xm32 = x0 - Rational(3,2)*dx\n",
      "xm12 = x0 - Rational(1,2)*dx\n",
      "xp12 = x0 + Rational(1,2)*dx\n",
      "xp32 = x0 + Rational(3,2)*dx\n",
      "xp52 = x0 + Rational(5,2)*dx"
     ],
     "language": "python",
     "metadata": {},
     "outputs": [],
     "prompt_number": 19
    },
    {
     "cell_type": "code",
     "collapsed": false,
     "input": [
      "A = simplify(integrate(f/dx, (x, xm52, xm32)))\n",
      "B = simplify(integrate(f/dx, (x, xm32, xm12)))\n",
      "C = simplify(integrate(f/dx, (x, xm12, xp12)))\n",
      "D = simplify(integrate(f/dx, (x, xp12, xp32)))\n",
      "E = simplify(integrate(f/dx, (x, xp32, xp52)))"
     ],
     "language": "python",
     "metadata": {},
     "outputs": [],
     "prompt_number": 20
    },
    {
     "cell_type": "markdown",
     "metadata": {},
     "source": [
      "The analytic form of the constraints"
     ]
    },
    {
     "cell_type": "code",
     "collapsed": false,
     "input": [
      "A, B, C, D, E"
     ],
     "language": "python",
     "metadata": {},
     "outputs": [
      {
       "latex": [
        "$$\\left ( \\frac{1441 a}{80} \\Delta^{4} - \\frac{17 b}{2} \\Delta^{3} + \\frac{49 c}{12} \\Delta^{2} - 2 \\Delta d + e, \\quad \\frac{121 a}{80} \\Delta^{4} - \\frac{5 b}{4} \\Delta^{3} + \\frac{13 c}{12} \\Delta^{2} - \\Delta d + e, \\quad \\frac{\\Delta^{4} a}{80} + \\frac{\\Delta^{2} c}{12} + e, \\quad \\frac{121 a}{80} \\Delta^{4} + \\frac{5 b}{4} \\Delta^{3} + \\frac{13 c}{12} \\Delta^{2} + \\Delta d + e, \\quad \\frac{1441 a}{80} \\Delta^{4} + \\frac{17 b}{2} \\Delta^{3} + \\frac{49 c}{12} \\Delta^{2} + 2 \\Delta d + e\\right )$$"
       ],
       "metadata": {},
       "output_type": "pyout",
       "png": "[encoded data removed]",
       "prompt_number": 21,
       "text": [
        "\u239b           4              3              2                               4   \n",
        "\u239c1441\u22c5\\Delta \u22c5a   17\u22c5\\Delta \u22c5b   49\u22c5\\Delta \u22c5c                   121\u22c5\\Delta \u22c5a \n",
        "\u239c\u2500\u2500\u2500\u2500\u2500\u2500\u2500\u2500\u2500\u2500\u2500\u2500\u2500\u2500 - \u2500\u2500\u2500\u2500\u2500\u2500\u2500\u2500\u2500\u2500\u2500\u2500 + \u2500\u2500\u2500\u2500\u2500\u2500\u2500\u2500\u2500\u2500\u2500\u2500 - 2\u22c5\\Delta\u22c5d + e, \u2500\u2500\u2500\u2500\u2500\u2500\u2500\u2500\u2500\u2500\u2500\u2500\u2500 \n",
        "\u239d      80              2              12                              80      \n",
        "\n",
        "          3              2                         4           2              \n",
        "  5\u22c5\\Delta \u22c5b   13\u22c5\\Delta \u22c5c                 \\Delta \u22c5a   \\Delta \u22c5c      121\u22c5\\D\n",
        "- \u2500\u2500\u2500\u2500\u2500\u2500\u2500\u2500\u2500\u2500\u2500 + \u2500\u2500\u2500\u2500\u2500\u2500\u2500\u2500\u2500\u2500\u2500\u2500 - \\Delta\u22c5d + e, \u2500\u2500\u2500\u2500\u2500\u2500\u2500\u2500\u2500 + \u2500\u2500\u2500\u2500\u2500\u2500\u2500\u2500\u2500 + e, \u2500\u2500\u2500\u2500\u2500\u2500\n",
        "       4             12                          80          12               \n",
        "\n",
        "    4             3              2                              4             \n",
        "elta \u22c5a   5\u22c5\\Delta \u22c5b   13\u22c5\\Delta \u22c5c                 1441\u22c5\\Delta \u22c5a   17\u22c5\\Delt\n",
        "\u2500\u2500\u2500\u2500\u2500\u2500\u2500 + \u2500\u2500\u2500\u2500\u2500\u2500\u2500\u2500\u2500\u2500\u2500 + \u2500\u2500\u2500\u2500\u2500\u2500\u2500\u2500\u2500\u2500\u2500\u2500 + \\Delta\u22c5d + e, \u2500\u2500\u2500\u2500\u2500\u2500\u2500\u2500\u2500\u2500\u2500\u2500\u2500\u2500 + \u2500\u2500\u2500\u2500\u2500\u2500\u2500\u2500\n",
        "80             4             12                            80              2  \n",
        "\n",
        " 3              2                   \u239e\n",
        "a \u22c5b   49\u22c5\\Delta \u22c5c                 \u239f\n",
        "\u2500\u2500\u2500\u2500 + \u2500\u2500\u2500\u2500\u2500\u2500\u2500\u2500\u2500\u2500\u2500\u2500 + 2\u22c5\\Delta\u22c5d + e\u239f\n",
        "            12                      \u23a0"
       ]
      }
     ],
     "prompt_number": 21
    },
    {
     "cell_type": "markdown",
     "metadata": {},
     "source": [
      "Now find the coefficients"
     ]
    },
    {
     "cell_type": "code",
     "collapsed": false,
     "input": [
      "coeffs = solve([A-fm2, B-fm, C-f0, D-fp, E-fp2], [a,b,c,d,e], check=False)\n",
      "coeffs"
     ],
     "language": "python",
     "metadata": {},
     "outputs": [
      {
       "latex": [
        "$$\\left \\{ a : \\frac{1}{24 \\Delta^{4}} \\left(6 f_{i} - 4 f_{{i+1}} + f_{{i+2}} - 4 f_{{i-1}} + f_{{i-2}}\\right), \\quad b : \\frac{1}{12 \\Delta^{3}} \\left(- 2 f_{{i+1}} + f_{{i+2}} + 2 f_{{i-1}} - f_{{i-2}}\\right), \\quad c : \\frac{1}{16 \\Delta^{2}} \\left(- 22 f_{i} + 12 f_{{i+1}} - f_{{i+2}} + 12 f_{{i-1}} - f_{{i-2}}\\right), \\quad d : \\frac{1}{48 \\Delta} \\left(34 f_{{i+1}} - 5 f_{{i+2}} - 34 f_{{i-1}} + 5 f_{{i-2}}\\right), \\quad e : \\frac{1067 f_{i}}{960} - \\frac{29 f_{{i+1}}}{480} + \\frac{3 f_{{i+2}}}{640} - \\frac{29 f_{{i-1}}}{480} + \\frac{3 f_{{i-2}}}{640}\\right \\}$$"
       ],
       "metadata": {},
       "output_type": "pyout",
       "png": "[encoded data removed]",
       "prompt_number": 22,
       "text": [
        "\u23a7   6\u22c5f\u1d62 - 4\u22c5f_{i+1} + f_{i+2} - 4\u22c5f_{i-1} + f_{i-2}     -2\u22c5f_{i+1} + f_{i+2} \n",
        "\u23aaa: \u2500\u2500\u2500\u2500\u2500\u2500\u2500\u2500\u2500\u2500\u2500\u2500\u2500\u2500\u2500\u2500\u2500\u2500\u2500\u2500\u2500\u2500\u2500\u2500\u2500\u2500\u2500\u2500\u2500\u2500\u2500\u2500\u2500\u2500\u2500\u2500\u2500\u2500\u2500\u2500\u2500\u2500\u2500\u2500\u2500\u2500\u2500\u2500, b: \u2500\u2500\u2500\u2500\u2500\u2500\u2500\u2500\u2500\u2500\u2500\u2500\u2500\u2500\u2500\u2500\u2500\u2500\u2500\u2500\u2500\n",
        "\u23a8                               4                                             \n",
        "\u23aa                      24\u22c5\\Delta                                         12\u22c5\\D\n",
        "\u23a9                                                                             \n",
        "\n",
        "+ 2\u22c5f_{i-1} - f_{i-2}     -22\u22c5f\u1d62 + 12\u22c5f_{i+1} - f_{i+2} + 12\u22c5f_{i-1} - f_{i-2}\n",
        "\u2500\u2500\u2500\u2500\u2500\u2500\u2500\u2500\u2500\u2500\u2500\u2500\u2500\u2500\u2500\u2500\u2500\u2500\u2500\u2500\u2500, c: \u2500\u2500\u2500\u2500\u2500\u2500\u2500\u2500\u2500\u2500\u2500\u2500\u2500\u2500\u2500\u2500\u2500\u2500\u2500\u2500\u2500\u2500\u2500\u2500\u2500\u2500\u2500\u2500\u2500\u2500\u2500\u2500\u2500\u2500\u2500\u2500\u2500\u2500\u2500\u2500\u2500\u2500\u2500\u2500\u2500\u2500\u2500\u2500\u2500\u2500\u2500\u2500\n",
        "    3                                                   2                     \n",
        "elta                                           16\u22c5\\Delta                      \n",
        "                                                                              \n",
        "\n",
        "     34\u22c5f_{i+1} - 5\u22c5f_{i+2} - 34\u22c5f_{i-1} + 5\u22c5f_{i-2}     1067\u22c5f\u1d62   29\u22c5f_{i+1} \n",
        ", d: \u2500\u2500\u2500\u2500\u2500\u2500\u2500\u2500\u2500\u2500\u2500\u2500\u2500\u2500\u2500\u2500\u2500\u2500\u2500\u2500\u2500\u2500\u2500\u2500\u2500\u2500\u2500\u2500\u2500\u2500\u2500\u2500\u2500\u2500\u2500\u2500\u2500\u2500\u2500\u2500\u2500\u2500\u2500\u2500\u2500\u2500\u2500, e: \u2500\u2500\u2500\u2500\u2500\u2500\u2500 - \u2500\u2500\u2500\u2500\u2500\u2500\u2500\u2500\u2500\u2500 \n",
        "                        48\u22c5\\Delta                          960        480     \n",
        "                                                                              \n",
        "                                                                              \n",
        "\n",
        "  3\u22c5f_{i+2}   29\u22c5f_{i-1}   3\u22c5f_{i-2}\u23ab\n",
        "+ \u2500\u2500\u2500\u2500\u2500\u2500\u2500\u2500\u2500 - \u2500\u2500\u2500\u2500\u2500\u2500\u2500\u2500\u2500\u2500 + \u2500\u2500\u2500\u2500\u2500\u2500\u2500\u2500\u2500\u23aa\n",
        "     640         480          640   \u23ac\n",
        "                                    \u23aa\n",
        "                                    \u23ad"
       ]
      }
     ],
     "prompt_number": 22
    },
    {
     "cell_type": "markdown",
     "metadata": {},
     "source": [
      "and the pretty form of the polynomial"
     ]
    },
    {
     "cell_type": "code",
     "collapsed": false,
     "input": [
      "f.subs(a,coeffs[a]).subs(b,coeffs[b]).subs(c,coeffs[c]).subs(d,coeffs[d]).subs(e,coeffs[e])"
     ],
     "language": "python",
     "metadata": {},
     "outputs": [
      {
       "latex": [
        "$$\\frac{1067 f_{i}}{960} - \\frac{29 f_{{i+1}}}{480} + \\frac{3 f_{{i+2}}}{640} - \\frac{29 f_{{i-1}}}{480} + \\frac{3 f_{{i-2}}}{640} + \\frac{1}{48 \\Delta} \\left(x - x_{0}\\right) \\left(34 f_{{i+1}} - 5 f_{{i+2}} - 34 f_{{i-1}} + 5 f_{{i-2}}\\right) + \\frac{\\left(x - x_{0}\\right)^{2}}{16 \\Delta^{2}} \\left(- 22 f_{i} + 12 f_{{i+1}} - f_{{i+2}} + 12 f_{{i-1}} - f_{{i-2}}\\right) + \\frac{\\left(x - x_{0}\\right)^{3}}{12 \\Delta^{3}} \\left(- 2 f_{{i+1}} + f_{{i+2}} + 2 f_{{i-1}} - f_{{i-2}}\\right) + \\frac{\\left(x - x_{0}\\right)^{4}}{24 \\Delta^{4}} \\left(6 f_{i} - 4 f_{{i+1}} + f_{{i+2}} - 4 f_{{i-1}} + f_{{i-2}}\\right)$$"
       ],
       "metadata": {},
       "output_type": "pyout",
       "png": "[encoded data removed]",
       "prompt_number": 23,
       "text": [
        "                                                                              \n",
        "1067\u22c5f\u1d62   29\u22c5f_{i+1}   3\u22c5f_{i+2}   29\u22c5f_{i-1}   3\u22c5f_{i-2}   (x - x\u2080)\u22c5(34\u22c5f_{i+\n",
        "\u2500\u2500\u2500\u2500\u2500\u2500\u2500 - \u2500\u2500\u2500\u2500\u2500\u2500\u2500\u2500\u2500\u2500 + \u2500\u2500\u2500\u2500\u2500\u2500\u2500\u2500\u2500 - \u2500\u2500\u2500\u2500\u2500\u2500\u2500\u2500\u2500\u2500 + \u2500\u2500\u2500\u2500\u2500\u2500\u2500\u2500\u2500 + \u2500\u2500\u2500\u2500\u2500\u2500\u2500\u2500\u2500\u2500\u2500\u2500\u2500\u2500\u2500\u2500\u2500\u2500\n",
        "  960        480          640         480          640                        \n",
        "                                                                              \n",
        "\n",
        "                                                   2                          \n",
        "1} - 5\u22c5f_{i+2} - 34\u22c5f_{i-1} + 5\u22c5f_{i-2})   (x - x\u2080) \u22c5(-22\u22c5f\u1d62 + 12\u22c5f_{i+1} - f_\n",
        "\u2500\u2500\u2500\u2500\u2500\u2500\u2500\u2500\u2500\u2500\u2500\u2500\u2500\u2500\u2500\u2500\u2500\u2500\u2500\u2500\u2500\u2500\u2500\u2500\u2500\u2500\u2500\u2500\u2500\u2500\u2500\u2500\u2500\u2500\u2500\u2500\u2500\u2500\u2500\u2500 + \u2500\u2500\u2500\u2500\u2500\u2500\u2500\u2500\u2500\u2500\u2500\u2500\u2500\u2500\u2500\u2500\u2500\u2500\u2500\u2500\u2500\u2500\u2500\u2500\u2500\u2500\u2500\u2500\u2500\u2500\u2500\u2500\u2500\u2500\u2500\n",
        "      48\u22c5\\Delta                                                               \n",
        "                                                                      16\u22c5\\Delt\n",
        "\n",
        "                                        3                                     \n",
        "{i+2} + 12\u22c5f_{i-1} - f_{i-2})   (x - x\u2080) \u22c5(-2\u22c5f_{i+1} + f_{i+2} + 2\u22c5f_{i-1} - \n",
        "\u2500\u2500\u2500\u2500\u2500\u2500\u2500\u2500\u2500\u2500\u2500\u2500\u2500\u2500\u2500\u2500\u2500\u2500\u2500\u2500\u2500\u2500\u2500\u2500\u2500\u2500\u2500\u2500\u2500 + \u2500\u2500\u2500\u2500\u2500\u2500\u2500\u2500\u2500\u2500\u2500\u2500\u2500\u2500\u2500\u2500\u2500\u2500\u2500\u2500\u2500\u2500\u2500\u2500\u2500\u2500\u2500\u2500\u2500\u2500\u2500\u2500\u2500\u2500\u2500\u2500\u2500\u2500\u2500\u2500\u2500\u2500\u2500\u2500\u2500\u2500\n",
        " 2                                                             3              \n",
        "a                                                     12\u22c5\\Delta               \n",
        "\n",
        "                   4                                                   \n",
        "f_{i-2})   (x - x\u2080) \u22c5(6\u22c5f\u1d62 - 4\u22c5f_{i+1} + f_{i+2} - 4\u22c5f_{i-1} + f_{i-2})\n",
        "\u2500\u2500\u2500\u2500\u2500\u2500\u2500\u2500 + \u2500\u2500\u2500\u2500\u2500\u2500\u2500\u2500\u2500\u2500\u2500\u2500\u2500\u2500\u2500\u2500\u2500\u2500\u2500\u2500\u2500\u2500\u2500\u2500\u2500\u2500\u2500\u2500\u2500\u2500\u2500\u2500\u2500\u2500\u2500\u2500\u2500\u2500\u2500\u2500\u2500\u2500\u2500\u2500\u2500\u2500\u2500\u2500\u2500\u2500\u2500\u2500\u2500\u2500\u2500\u2500\u2500\u2500\u2500\u2500\n",
        "                                             4                         \n",
        "                                    24\u22c5\\Delta                          "
       ]
      }
     ],
     "prompt_number": 23
    },
    {
     "cell_type": "code",
     "collapsed": false,
     "input": [],
     "language": "python",
     "metadata": {},
     "outputs": []
    }
   ],
   "metadata": {}
  }
 ]
}