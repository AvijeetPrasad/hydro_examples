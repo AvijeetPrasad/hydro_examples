{
 "cells": [
  {
   "cell_type": "markdown",
   "metadata": {},
   "source": [
    "# Hydrodynamics Systems with a General EOS\n",
    "\n",
    "This notebook explores the eigensystem of the Euler equations augmented with an additional thermodynamic variable to describe a general equation of state in the reconstruction of interface states"
   ]
  },
  {
   "cell_type": "code",
   "execution_count": 1,
   "metadata": {
    "collapsed": false
   },
   "outputs": [
    {
     "name": "stdout",
     "output_type": "stream",
     "text": [
      "IPython console for SymPy 1.0 (Python 2.7.12-64-bit) (ground types: gmpy)\n",
      "\n",
      "These commands were executed:\n",
      ">>> from __future__ import division\n",
      ">>> from sympy import *\n",
      ">>> x, y, z, t = symbols('x y z t')\n",
      ">>> k, m, n = symbols('k m n', integer=True)\n",
      ">>> f, g, h = symbols('f g h', cls=Function)\n",
      ">>> init_printing()\n",
      "\n",
      "Documentation can be found at http://docs.sympy.org/1.0/\n"
     ]
    }
   ],
   "source": [
    "from sympy import init_session\n",
    "init_session()"
   ]
  },
  {
   "cell_type": "code",
   "execution_count": 2,
   "metadata": {
    "collapsed": true
   },
   "outputs": [],
   "source": [
    "from sympy.abc import rho, tau, alpha\n",
    "rho, tau, c, h = symbols(\"rho tau c h\", real=True, positive=True)\n",
    "alpha, u = symbols(\"alpha u\", real=True)"
   ]
  },
  {
   "cell_type": "markdown",
   "metadata": {},
   "source": [
    "The two routines below simplify the analysis of the eigensystem by simultaneously finding the set of orthonormal left and right eigenvectors of a matrix from the primitive form of the hydro equations"
   ]
  },
  {
   "cell_type": "code",
   "execution_count": 3,
   "metadata": {
    "collapsed": true
   },
   "outputs": [],
   "source": [
    "plus = u + c\n",
    "zero = u\n",
    "minus = u - c\n",
    "\n",
    "class Eigenvector(object):\n",
    "    def __init__(self, name, ev, r, l=None):\n",
    "        self.name = name\n",
    "        if name == \"minus\":\n",
    "            self.d = 0\n",
    "        elif name == \"zero\":\n",
    "            self.d = 1\n",
    "        elif name == \"plus\":\n",
    "            self.d = 2\n",
    "        else:\n",
    "            self.d = None\n",
    "\n",
    "        self.ev = ev\n",
    "        self.l = l\n",
    "        self.r = r\n",
    "\n",
    "    def __lt__(self, other):\n",
    "        return self.d < other.d\n",
    "\n",
    "    def __str__(self):\n",
    "        return \"{} wave, r = {}, l = {}\".format(self.eigenvalue, self.r, self.l)\n",
    "\n",
    "def eigensystem(A, suba=None, subb=None):\n",
    "    # get the left and right eigenvectors that diagonalize the system.\n",
    "    # it is best to use sympy diagonalize() for this purpose than getting\n",
    "    # the left and right eigenvectors independently.\n",
    "\n",
    "    e = []\n",
    "\n",
    "    R, D = A.diagonalize()\n",
    "\n",
    "    # the columns of R are the right eigenvectors and the diagonal\n",
    "    # element of D is the corresponding eigenvalues\n",
    "\n",
    "    for n in range(A.shape[0]):\n",
    "        r = R.col(n)\n",
    "        ev = D[n,n]\n",
    "                    \n",
    "        #print(\"here\", r, ev)\n",
    "        if suba is not None and subb is not None:\n",
    "            ev = ev.subs(suba, subb)\n",
    "            \n",
    "        # which eigenvalue are we?\n",
    "        if simplify(ev - minus) == 0:\n",
    "            name = \"minus\"\n",
    "        elif simplify(ev - plus) == 0:\n",
    "            name = \"plus\"\n",
    "        elif simplify(ev - zero) == 0:\n",
    "            name = \"zero\"\n",
    "        else:\n",
    "            return None\n",
    "                                                                                                            \n",
    "        # normalize the right eigenvector\n",
    "        v = r[0]\n",
    "        if v != 0:\n",
    "            r = r/v\n",
    "\n",
    "        if suba is not None and subb is not None:\n",
    "            r = simplify(r.subs(suba, subb))\n",
    "            \n",
    "        e.append(Eigenvector(name=name, ev=ev, r=r))\n",
    "\n",
    "    # now sort the system from smallest (u-c) to largest (u+c)\n",
    "    e.sort()\n",
    "\n",
    "    # now let's construct the R with this sorting\n",
    "    for n in range(A.shape[0]):\n",
    "        R[:,n] = e[n].r\n",
    "\n",
    "    # the left eigenvector matrix, L, is just the inverse\n",
    "    L = R**-1\n",
    "\n",
    "    for n in range(A.shape[0]):\n",
    "        e[n].l = L.row(n)\n",
    "\n",
    "    return e"
   ]
  },
  {
   "cell_type": "markdown",
   "metadata": {},
   "source": [
    "# Euler Equations with $(\\rho e)$\n",
    "\n",
    "The Euler equations in primitive variable form, $q = (\\rho, u, p, (\\rho e))^\\intercal$ appear as:\n",
    "\\begin{align}\n",
    "\\frac{\\partial \\rho}{\\partial t} &= -u \\frac{\\partial \\rho}{\\partial x} - \\rho \\frac{\\partial u}{\\partial x} \\\\\n",
    "\\frac{\\partial u}{\\partial t} &= -u \\frac{\\partial u}{\\partial x} - \\frac{1}{\\rho} \\frac{\\partial p}{\\partial x} \\\\\n",
    "\\frac{\\partial p}{\\partial t} &= -u \\frac{\\partial p}{\\partial x} - \\rho c^2 \\frac{\\partial u}{\\partial x} \\\\\n",
    "\\frac{\\partial (\\rho e)}{\\partial t} &= -u \\frac{\\partial (\\rho e)}{\\partial x} - \\rho h \\frac{\\partial u}{\\partial x} \n",
    "\\end{align}\n",
    "\n",
    "In vector form, we have:\n",
    "$$q_t + A(q) q_x = 0$$\n",
    "\n",
    "with the matrix $A(q)$:\n",
    "\n",
    "\n",
    "$$A(q) = \\left ( \\begin{array}{cccc} u  & \\rho     & 0    & 0\\\\                          \n",
    "                                  0  &  u       & 1/\\rho  & 0\\\\                     \n",
    "                                  0  & \\rho c^2 & u       & 0\\\\\n",
    "                                  0  & \\rho h & 0       & u\\end{array} \\right )  \n",
    "$$\n",
    "\n",
    "The sound speed is related to the adiabatic index, $\\Gamma_1$, as $c^2 = \\Gamma_1 p /\\rho$.\n",
    "\n",
    "We can represent this matrix symbolically in SymPy and explore its eigensystem."
   ]
  },
  {
   "cell_type": "code",
   "execution_count": 4,
   "metadata": {
    "collapsed": false
   },
   "outputs": [
    {
     "data": {
      "image/png": "[encoded data removed]",
      "text/latex": [
       "$$\\left[\\begin{matrix}u & \\rho & 0 & 0\\\\0 & u & \\frac{1}{\\rho} & 0\\\\0 & c^{2} \\rho & u & 0\\\\0 & h \\rho & 0 & u\\end{matrix}\\right]$$"
      ],
      "text/plain": [
       "⎡u   ρ    0  0⎤\n",
       "⎢             ⎥\n",
       "⎢         1   ⎥\n",
       "⎢0   u    ─  0⎥\n",
       "⎢         ρ   ⎥\n",
       "⎢             ⎥\n",
       "⎢    2        ⎥\n",
       "⎢0  c ⋅ρ  u  0⎥\n",
       "⎢             ⎥\n",
       "⎣0  h⋅ρ   0  u⎦"
      ]
     },
     "execution_count": 4,
     "metadata": {},
     "output_type": "execute_result"
    }
   ],
   "source": [
    "A = Matrix([[u, rho, 0, 0], [0, u, rho**-1, 0], [0, c**2 * rho, u, 0], [0, rho*h, 0, u]])\n",
    "A"
   ]
  },
  {
   "cell_type": "markdown",
   "metadata": {},
   "source": [
    "The eigenvalues are the speeds at which information propagates with.  SymPy returns them as a\n",
    "dictionary, giving the multiplicity for each eigenvalue."
   ]
  },
  {
   "cell_type": "code",
   "execution_count": 5,
   "metadata": {
    "collapsed": false
   },
   "outputs": [
    {
     "data": {
      "image/png": "[encoded data removed]",
      "text/latex": [
       "$$\\left \\{ u : 2, \\quad - c + u : 1, \\quad c + u : 1\\right \\}$$"
      ],
      "text/plain": [
       "{u: 2, -c + u: 1, c + u: 1}"
      ]
     },
     "execution_count": 5,
     "metadata": {},
     "output_type": "execute_result"
    }
   ],
   "source": [
    "A.eigenvals()"
   ]
  },
  {
   "cell_type": "markdown",
   "metadata": {},
   "source": [
    "We see that there are 2 eigenvalues $u$ -- the addition of $(\\rho e)$ to the system adds this degeneracy."
   ]
  },
  {
   "cell_type": "markdown",
   "metadata": {},
   "source": [
    "## Eigenvectors"
   ]
  },
  {
   "cell_type": "markdown",
   "metadata": {},
   "source": [
    "The right eigenvectors are defined for a given eigenvalue, $\\lambda$, as:\n",
    "$$A r = \\lambda r$$\n",
    "and the left eigenvectors satisfy:\n",
    "$$l A = \\lambda l$$\n",
    "\n",
    "Note that the left and right eigenvectors are orthogonal to those corresponding to a different eigenvalue, and usually normalized so:\n",
    "$$l^i \\cdot r^j = \\delta_{ij}$$"
   ]
  },
  {
   "cell_type": "code",
   "execution_count": 6,
   "metadata": {
    "collapsed": false
   },
   "outputs": [],
   "source": [
    "# we use the helper rountines above to find the orthogonal left and right eigenvectors\n",
    "eigen = eigensystem(A)"
   ]
  },
  {
   "cell_type": "code",
   "execution_count": 7,
   "metadata": {
    "collapsed": false
   },
   "outputs": [
    {
     "name": "stdout",
     "output_type": "stream",
     "text": [
      "minus\n"
     ]
    },
    {
     "data": {
      "image/png": "[encoded data removed]",
      "text/latex": [
       "$$\\left[\\begin{matrix}1\\\\- \\frac{c}{\\rho}\\\\c^{2}\\\\h\\end{matrix}\\right]$$"
      ],
      "text/plain": [
       "⎡ 1 ⎤\n",
       "⎢   ⎥\n",
       "⎢-c ⎥\n",
       "⎢───⎥\n",
       "⎢ ρ ⎥\n",
       "⎢   ⎥\n",
       "⎢ 2 ⎥\n",
       "⎢c  ⎥\n",
       "⎢   ⎥\n",
       "⎣ h ⎦"
      ]
     },
     "metadata": {},
     "output_type": "display_data"
    },
    {
     "data": {
      "image/png": "[encoded data removed]",
      "text/latex": [
       "$$\\left[\\begin{matrix}0 & - \\frac{\\rho}{2 c} & \\frac{1}{2 c^{2}} & 0\\end{matrix}\\right]$$"
      ],
      "text/plain": [
       "⎡   -ρ    1     ⎤\n",
       "⎢0  ───  ────  0⎥\n",
       "⎢   2⋅c     2   ⎥\n",
       "⎣        2⋅c    ⎦"
      ]
     },
     "metadata": {},
     "output_type": "display_data"
    },
    {
     "name": "stdout",
     "output_type": "stream",
     "text": [
      "zero\n"
     ]
    },
    {
     "data": {
      "image/png": "[encoded data removed]",
      "text/latex": [
       "$$\\left[\\begin{matrix}1\\\\0\\\\0\\\\0\\end{matrix}\\right]$$"
      ],
      "text/plain": [
       "⎡1⎤\n",
       "⎢ ⎥\n",
       "⎢0⎥\n",
       "⎢ ⎥\n",
       "⎢0⎥\n",
       "⎢ ⎥\n",
       "⎣0⎦"
      ]
     },
     "metadata": {},
     "output_type": "display_data"
    },
    {
     "data": {
      "image/png": "[encoded data removed]",
      "text/latex": [
       "$$\\left[\\begin{matrix}1 & 0 & - \\frac{1}{c^{2}} & 0\\end{matrix}\\right]$$"
      ],
      "text/plain": [
       "⎡      -1    ⎤\n",
       "⎢1  0  ───  0⎥\n",
       "⎢        2   ⎥\n",
       "⎣       c    ⎦"
      ]
     },
     "metadata": {},
     "output_type": "display_data"
    },
    {
     "name": "stdout",
     "output_type": "stream",
     "text": [
      "zero\n"
     ]
    },
    {
     "data": {
      "image/png": "[encoded data removed]",
      "text/latex": [
       "$$\\left[\\begin{matrix}0\\\\0\\\\0\\\\1\\end{matrix}\\right]$$"
      ],
      "text/plain": [
       "⎡0⎤\n",
       "⎢ ⎥\n",
       "⎢0⎥\n",
       "⎢ ⎥\n",
       "⎢0⎥\n",
       "⎢ ⎥\n",
       "⎣1⎦"
      ]
     },
     "metadata": {},
     "output_type": "display_data"
    },
    {
     "data": {
      "image/png": "[encoded data removed]",
      "text/latex": [
       "$$\\left[\\begin{matrix}0 & 0 & - \\frac{h}{c^{2}} & 1\\end{matrix}\\right]$$"
      ],
      "text/plain": [
       "⎡      -h    ⎤\n",
       "⎢0  0  ───  1⎥\n",
       "⎢        2   ⎥\n",
       "⎣       c    ⎦"
      ]
     },
     "metadata": {},
     "output_type": "display_data"
    },
    {
     "name": "stdout",
     "output_type": "stream",
     "text": [
      "plus\n"
     ]
    },
    {
     "data": {
      "image/png": "[encoded data removed]",
      "text/latex": [
       "$$\\left[\\begin{matrix}1\\\\\\frac{c}{\\rho}\\\\c^{2}\\\\h\\end{matrix}\\right]$$"
      ],
      "text/plain": [
       "⎡1 ⎤\n",
       "⎢  ⎥\n",
       "⎢c ⎥\n",
       "⎢─ ⎥\n",
       "⎢ρ ⎥\n",
       "⎢  ⎥\n",
       "⎢ 2⎥\n",
       "⎢c ⎥\n",
       "⎢  ⎥\n",
       "⎣h ⎦"
      ]
     },
     "metadata": {},
     "output_type": "display_data"
    },
    {
     "data": {
      "image/png": "[encoded data removed]",
      "text/latex": [
       "$$\\left[\\begin{matrix}0 & \\frac{\\rho}{2 c} & \\frac{1}{2 c^{2}} & 0\\end{matrix}\\right]$$"
      ],
      "text/plain": [
       "⎡    ρ    1     ⎤\n",
       "⎢0  ───  ────  0⎥\n",
       "⎢   2⋅c     2   ⎥\n",
       "⎣        2⋅c    ⎦"
      ]
     },
     "metadata": {},
     "output_type": "display_data"
    }
   ],
   "source": [
    "# printing them out for inspection\n",
    "from sympy.printing.mathml import mathml\n",
    "for e in eigen:\n",
    "    print(e.name)\n",
    "    display(e.r, e.l)"
   ]
  },
  {
   "cell_type": "markdown",
   "metadata": {},
   "source": [
    "## $\\beta$'s"
   ]
  },
  {
   "cell_type": "markdown",
   "metadata": {},
   "source": [
    "The tracing projects the primitive variables into characteristic variables by defining\n",
    "$$\n",
    "\\Delta q = \\left ( \\begin{array}{c} \\Delta \\rho \\\\ \\Delta u \\\\ \\Delta p \\\\ \\Delta (\\rho e) \\end{array} \\right )\n",
    "$$\n",
    "and then\n",
    "$\\beta^\\nu = l^\\nu \\cdot \\Delta q$"
   ]
  },
  {
   "cell_type": "code",
   "execution_count": 8,
   "metadata": {
    "collapsed": false
   },
   "outputs": [
    {
     "data": {
      "image/png": "[encoded data removed]",
      "text/latex": [
       "$$\\left[\\begin{matrix}\\Delta\\rho\\\\\\Delta{}u\\\\\\Delta{}p\\\\\\Delta(\\rho{}e)\\end{matrix}\\right]$$"
      ],
      "text/plain": [
       "⎡  \\Delta\\rho   ⎤\n",
       "⎢               ⎥\n",
       "⎢   \\Delta{}u   ⎥\n",
       "⎢               ⎥\n",
       "⎢   \\Delta{}p   ⎥\n",
       "⎢               ⎥\n",
       "⎣\\Delta(\\rho{}e)⎦"
      ]
     },
     "execution_count": 8,
     "metadata": {},
     "output_type": "execute_result"
    }
   ],
   "source": [
    "from sympy.abc import delta\n",
    "\n",
    "dr = symbols(r\"\\Delta\\rho\")\n",
    "du = symbols(r\"\\Delta{}u\")\n",
    "dp = symbols(r\"\\Delta{}p\")\n",
    "dre = symbols(r\"\\Delta(\\rho{}e)\")\n",
    "\n",
    "dq = Matrix([[dr, du, dp, dre]]).transpose()\n",
    "dq"
   ]
  },
  {
   "cell_type": "code",
   "execution_count": 9,
   "metadata": {
    "collapsed": false
   },
   "outputs": [
    {
     "name": "stdout",
     "output_type": "stream",
     "text": [
      "minus\n"
     ]
    },
    {
     "data": {
      "image/png": "[encoded data removed]",
      "text/latex": [
       "$$\\beta^- = \\frac{1}{2 c^{2}} \\left(\\Delta{}p - \\Delta{}u c \\rho\\right)$$"
      ],
      "text/plain": [
       "         \\Delta{}p - \\Delta{}u⋅c⋅ρ\n",
       "\\beta⁻ = ─────────────────────────\n",
       "                       2          \n",
       "                    2⋅c           "
      ]
     },
     "metadata": {},
     "output_type": "display_data"
    },
    {
     "name": "stdout",
     "output_type": "stream",
     "text": [
      "zero\n"
     ]
    },
    {
     "data": {
      "image/png": "[encoded data removed]",
      "text/latex": [
       "$$\\beta^0 = \\Delta\\rho - \\frac{\\Delta{}p}{c^{2}}$$"
      ],
      "text/plain": [
       "                      \\Delta{}p\n",
       "\\beta⁰ = \\Delta\\rho - ─────────\n",
       "                           2   \n",
       "                          c    "
      ]
     },
     "metadata": {},
     "output_type": "display_data"
    },
    {
     "name": "stdout",
     "output_type": "stream",
     "text": [
      "zero\n"
     ]
    },
    {
     "data": {
      "image/png": "[encoded data removed]",
      "text/latex": [
       "$$\\beta^0 = \\Delta(\\rho{}e) - \\frac{\\Delta{}p h}{c^{2}}$$"
      ],
      "text/plain": [
       "                           \\Delta{}p⋅h\n",
       "\\beta⁰ = \\Delta(\\rho{}e) - ───────────\n",
       "                                 2    \n",
       "                                c     "
      ]
     },
     "metadata": {},
     "output_type": "display_data"
    },
    {
     "name": "stdout",
     "output_type": "stream",
     "text": [
      "plus\n"
     ]
    },
    {
     "data": {
      "image/png": "[encoded data removed]",
      "text/latex": [
       "$$\\beta^+ = \\frac{1}{2 c^{2}} \\left(\\Delta{}p + \\Delta{}u c \\rho\\right)$$"
      ],
      "text/plain": [
       "         \\Delta{}p + \\Delta{}u⋅c⋅ρ\n",
       "\\beta⁺ = ─────────────────────────\n",
       "                       2          \n",
       "                    2⋅c           "
      ]
     },
     "metadata": {},
     "output_type": "display_data"
    }
   ],
   "source": [
    "bm, bz, bp = symbols(r\"\\beta^- \\beta^0 \\beta^+\")\n",
    "betas = [bm, bz, bp]\n",
    "for e in eigen:\n",
    "    print e.name\n",
    "    beta = e.l.dot(dq)\n",
    "    display(Eq(betas[e.d], simplify(beta)))"
   ]
  },
  {
   "cell_type": "markdown",
   "metadata": {},
   "source": [
    "-----"
   ]
  },
  {
   "cell_type": "markdown",
   "metadata": {},
   "source": [
    "# Euler Equations with $(\\gamma_e)$\n",
    "\n",
    "We can define $\\gamma_e = p/(\\rho e) + 1$ and differentiate it to get:\n",
    "$$\n",
    "\\frac{\\partial \\gamma_e}{\\partial t} = -u \\frac{\\partial \\gamma_e}{\\partial x} + (\\gamma_e - 1)(\\gamma_e - \\Gamma_1) \\frac{\\partial u}{\\partial x}\n",
    "$$\n",
    "The original CG paper used $\\tau = 1/\\rho$ in place of density.  With this, the continuity equation becomes:\n",
    "$$\n",
    "\\frac{\\partial \\tau}{\\partial t} = -u\\frac{\\partial \\tau}{\\partial x}  + \\tau \\frac{\\partial u}{\\partial x}\n",
    "$$\n",
    "\n",
    "The Euler equations with this set of primitive variables, $q = (\\tau, u, p, \\gamma_e)^\\intercal$ appear as:\n",
    "\\begin{align}\n",
    "\\frac{\\partial \\tau}{\\partial t} &= -u\\frac{\\partial \\tau}{\\partial x}  + \\tau \\frac{\\partial u}{\\partial x} \\\\\n",
    "\\frac{\\partial u}{\\partial t} &= -u \\frac{\\partial u}{\\partial x} - \\frac{1}{\\rho} \\frac{\\partial p}{\\partial x} \\\\\n",
    "\\frac{\\partial p}{\\partial t} &= -u \\frac{\\partial p}{\\partial x} - \\rho c^2 \\frac{\\partial u}{\\partial x} \\\\\n",
    "\\frac{\\partial \\gamma_e}{\\partial t} &= -u \\frac{\\partial \\gamma_e}{\\partial x} + (\\gamma_e - 1)(\\gamma_e - \\Gamma_1) \\frac{\\partial u}{\\partial x}\n",
    "\\end{align}\n",
    "\n",
    "For convenience, we define\n",
    "$$\n",
    "\\alpha = (\\gamma_e - 1)(\\gamma_e - \\Gamma_1)\n",
    "$$\n",
    "and then in vector form, we have:\n",
    "$$q_t + A(q) q_x = 0$$\n",
    "\n",
    "with the matrix $A(q)$:\n",
    "\n",
    "\n",
    "$$A(q) = \\left ( \\begin{array}{cccc} u  & -\\tau     & 0    & 0\\\\                          \n",
    "                                  0  &  u       & \\tau  & 0\\\\                     \n",
    "                                  0  & c^2/\\tau & u       & 0\\\\\n",
    "                                  0  & -\\alpha & 0       & u\\end{array} \\right )  \n",
    "$$\n",
    "\n",
    "We can represent this matrix symbolically in SymPy and explore its eigensystem."
   ]
  },
  {
   "cell_type": "code",
   "execution_count": 10,
   "metadata": {
    "collapsed": false
   },
   "outputs": [
    {
     "data": {
      "image/png": "[encoded data removed]",
      "text/latex": [
       "$$\\left[\\begin{matrix}u & - \\tau & 0 & 0\\\\0 & u & \\tau & 0\\\\0 & \\frac{c^{2}}{\\tau} & u & 0\\\\0 & - \\alpha & 0 & u\\end{matrix}\\right]$$"
      ],
      "text/plain": [
       "⎡u  -τ  0  0⎤\n",
       "⎢           ⎥\n",
       "⎢0  u   τ  0⎥\n",
       "⎢           ⎥\n",
       "⎢    2      ⎥\n",
       "⎢   c       ⎥\n",
       "⎢0  ──  u  0⎥\n",
       "⎢   τ       ⎥\n",
       "⎢           ⎥\n",
       "⎣0  -α  0  u⎦"
      ]
     },
     "execution_count": 10,
     "metadata": {},
     "output_type": "execute_result"
    }
   ],
   "source": [
    "A = Matrix([[u, -tau, 0, 0], [0, u, tau, 0], [0, c**2/tau, u, 0], [0, -alpha, 0, u]])\n",
    "A"
   ]
  },
  {
   "cell_type": "markdown",
   "metadata": {},
   "source": [
    "The eigenvalues are the speeds at which information propagates with.  SymPy returns them as a\n",
    "dictionary, giving the multiplicity for each eigenvalue."
   ]
  },
  {
   "cell_type": "code",
   "execution_count": 11,
   "metadata": {
    "collapsed": false
   },
   "outputs": [
    {
     "data": {
      "image/png": "[encoded data removed]",
      "text/latex": [
       "$$\\left \\{ u : 2, \\quad - c + u : 1, \\quad c + u : 1\\right \\}$$"
      ],
      "text/plain": [
       "{u: 2, -c + u: 1, c + u: 1}"
      ]
     },
     "execution_count": 11,
     "metadata": {},
     "output_type": "execute_result"
    }
   ],
   "source": [
    "A.eigenvals()"
   ]
  },
  {
   "cell_type": "markdown",
   "metadata": {},
   "source": [
    "We see that there are 2 eigenvalues $u$ -- the addition of $\\gamma_e$ to the system adds this degeneracy."
   ]
  },
  {
   "cell_type": "markdown",
   "metadata": {},
   "source": [
    "## Eigenvectors"
   ]
  },
  {
   "cell_type": "code",
   "execution_count": 12,
   "metadata": {
    "collapsed": false
   },
   "outputs": [],
   "source": [
    "# we use the helper rountines above to find the orthogonal left and right eigenvectors\n",
    "eigen = eigensystem(A)"
   ]
  },
  {
   "cell_type": "code",
   "execution_count": 13,
   "metadata": {
    "collapsed": false
   },
   "outputs": [
    {
     "name": "stdout",
     "output_type": "stream",
     "text": [
      "minus\n"
     ]
    },
    {
     "data": {
      "image/png": "[encoded data removed]",
      "text/latex": [
       "$$\\left[\\begin{matrix}1\\\\\\frac{c}{\\tau}\\\\- \\frac{c^{2}}{\\tau^{2}}\\\\\\frac{\\alpha}{\\tau}\\end{matrix}\\right]$$"
      ],
      "text/plain": [
       "⎡ 1  ⎤\n",
       "⎢    ⎥\n",
       "⎢ c  ⎥\n",
       "⎢ ─  ⎥\n",
       "⎢ τ  ⎥\n",
       "⎢    ⎥\n",
       "⎢  2 ⎥\n",
       "⎢-c  ⎥\n",
       "⎢────⎥\n",
       "⎢  2 ⎥\n",
       "⎢ τ  ⎥\n",
       "⎢    ⎥\n",
       "⎢ α  ⎥\n",
       "⎢ ─  ⎥\n",
       "⎣ τ  ⎦"
      ]
     },
     "metadata": {},
     "output_type": "display_data"
    },
    {
     "data": {
      "image/png": "[encoded data removed]",
      "text/latex": [
       "$$\\left[\\begin{matrix}0 & \\frac{\\tau}{2 c} & - \\frac{\\tau^{2}}{2 c^{2}} & 0\\end{matrix}\\right]$$"
      ],
      "text/plain": [
       "⎡          2    ⎤\n",
       "⎢    τ   -τ     ⎥\n",
       "⎢0  ───  ────  0⎥\n",
       "⎢   2⋅c     2   ⎥\n",
       "⎣        2⋅c    ⎦"
      ]
     },
     "metadata": {},
     "output_type": "display_data"
    },
    {
     "name": "stdout",
     "output_type": "stream",
     "text": [
      "zero\n"
     ]
    },
    {
     "data": {
      "image/png": "[encoded data removed]",
      "text/latex": [
       "$$\\left[\\begin{matrix}1\\\\0\\\\0\\\\0\\end{matrix}\\right]$$"
      ],
      "text/plain": [
       "⎡1⎤\n",
       "⎢ ⎥\n",
       "⎢0⎥\n",
       "⎢ ⎥\n",
       "⎢0⎥\n",
       "⎢ ⎥\n",
       "⎣0⎦"
      ]
     },
     "metadata": {},
     "output_type": "display_data"
    },
    {
     "data": {
      "image/png": "[encoded data removed]",
      "text/latex": [
       "$$\\left[\\begin{matrix}1 & 0 & \\frac{\\tau^{2}}{c^{2}} & 0\\end{matrix}\\right]$$"
      ],
      "text/plain": [
       "⎡       2   ⎤\n",
       "⎢      τ    ⎥\n",
       "⎢1  0  ──  0⎥\n",
       "⎢       2   ⎥\n",
       "⎣      c    ⎦"
      ]
     },
     "metadata": {},
     "output_type": "display_data"
    },
    {
     "name": "stdout",
     "output_type": "stream",
     "text": [
      "zero\n"
     ]
    },
    {
     "data": {
      "image/png": "[encoded data removed]",
      "text/latex": [
       "$$\\left[\\begin{matrix}0\\\\0\\\\0\\\\1\\end{matrix}\\right]$$"
      ],
      "text/plain": [
       "⎡0⎤\n",
       "⎢ ⎥\n",
       "⎢0⎥\n",
       "⎢ ⎥\n",
       "⎢0⎥\n",
       "⎢ ⎥\n",
       "⎣1⎦"
      ]
     },
     "metadata": {},
     "output_type": "display_data"
    },
    {
     "data": {
      "image/png": "[encoded data removed]",
      "text/latex": [
       "$$\\left[\\begin{matrix}0 & 0 & \\frac{\\alpha \\tau}{c^{2}} & 1\\end{matrix}\\right]$$"
      ],
      "text/plain": [
       "⎡      α⋅τ   ⎤\n",
       "⎢0  0  ───  1⎥\n",
       "⎢        2   ⎥\n",
       "⎣       c    ⎦"
      ]
     },
     "metadata": {},
     "output_type": "display_data"
    },
    {
     "name": "stdout",
     "output_type": "stream",
     "text": [
      "plus\n"
     ]
    },
    {
     "data": {
      "image/png": "[encoded data removed]",
      "text/latex": [
       "$$\\left[\\begin{matrix}1\\\\- \\frac{c}{\\tau}\\\\- \\frac{c^{2}}{\\tau^{2}}\\\\\\frac{\\alpha}{\\tau}\\end{matrix}\\right]$$"
      ],
      "text/plain": [
       "⎡ 1  ⎤\n",
       "⎢    ⎥\n",
       "⎢-c  ⎥\n",
       "⎢─── ⎥\n",
       "⎢ τ  ⎥\n",
       "⎢    ⎥\n",
       "⎢  2 ⎥\n",
       "⎢-c  ⎥\n",
       "⎢────⎥\n",
       "⎢  2 ⎥\n",
       "⎢ τ  ⎥\n",
       "⎢    ⎥\n",
       "⎢ α  ⎥\n",
       "⎢ ─  ⎥\n",
       "⎣ τ  ⎦"
      ]
     },
     "metadata": {},
     "output_type": "display_data"
    },
    {
     "data": {
      "image/png": "[encoded data removed]",
      "text/latex": [
       "$$\\left[\\begin{matrix}0 & - \\frac{\\tau}{2 c} & - \\frac{\\tau^{2}}{2 c^{2}} & 0\\end{matrix}\\right]$$"
      ],
      "text/plain": [
       "⎡          2    ⎤\n",
       "⎢   -τ   -τ     ⎥\n",
       "⎢0  ───  ────  0⎥\n",
       "⎢   2⋅c     2   ⎥\n",
       "⎣        2⋅c    ⎦"
      ]
     },
     "metadata": {},
     "output_type": "display_data"
    }
   ],
   "source": [
    "# printing them out for inspection\n",
    "from sympy.printing.mathml import mathml\n",
    "for e in eigen:\n",
    "    print(e.name)\n",
    "    display(e.r, e.l)"
   ]
  },
  {
   "cell_type": "markdown",
   "metadata": {},
   "source": [
    "## $\\beta$'s"
   ]
  },
  {
   "cell_type": "markdown",
   "metadata": {},
   "source": [
    "The tracing projects the primitive variables into characteristic variables by defining\n",
    "$$\n",
    "\\Delta q = \\left ( \\begin{array}{c} \\Delta \\rho \\\\ \\Delta u \\\\ \\Delta p \\\\ \\Delta \\gamma_e \\end{array} \\right )\n",
    "$$\n",
    "and then\n",
    "$\\beta^\\nu = l^\\nu \\cdot \\Delta q$"
   ]
  },
  {
   "cell_type": "code",
   "execution_count": 14,
   "metadata": {
    "collapsed": false
   },
   "outputs": [
    {
     "data": {
      "image/png": "[encoded data removed]",
      "text/latex": [
       "$$\\left[\\begin{matrix}\\Delta\\rho\\\\\\Delta{}u\\\\\\Delta{}p\\\\\\Delta\\gamma_e\\end{matrix}\\right]$$"
      ],
      "text/plain": [
       "⎡ \\Delta\\rho  ⎤\n",
       "⎢             ⎥\n",
       "⎢  \\Delta{}u  ⎥\n",
       "⎢             ⎥\n",
       "⎢  \\Delta{}p  ⎥\n",
       "⎢             ⎥\n",
       "⎣\\Delta\\gammaₑ⎦"
      ]
     },
     "execution_count": 14,
     "metadata": {},
     "output_type": "execute_result"
    }
   ],
   "source": [
    "dge = symbols(r\"\\Delta\\gamma_e\")\n",
    "\n",
    "dq = Matrix([[dr, du, dp, dge]]).transpose()\n",
    "dq"
   ]
  },
  {
   "cell_type": "code",
   "execution_count": 15,
   "metadata": {
    "collapsed": false
   },
   "outputs": [
    {
     "name": "stdout",
     "output_type": "stream",
     "text": [
      "minus\n"
     ]
    },
    {
     "data": {
      "image/png": "[encoded data removed]",
      "text/latex": [
       "$$\\beta^- = \\frac{\\tau}{2 c^{2}} \\left(- \\Delta{}p \\tau + \\Delta{}u c\\right)$$"
      ],
      "text/plain": [
       "         τ⋅(-\\Delta{}p⋅τ + \\Delta{}u⋅c)\n",
       "\\beta⁻ = ──────────────────────────────\n",
       "                         2             \n",
       "                      2⋅c              "
      ]
     },
     "metadata": {},
     "output_type": "display_data"
    },
    {
     "name": "stdout",
     "output_type": "stream",
     "text": [
      "zero\n"
     ]
    },
    {
     "data": {
      "image/png": "[encoded data removed]",
      "text/latex": [
       "$$\\beta^0 = \\Delta\\rho + \\frac{\\Delta{}p \\tau^{2}}{c^{2}}$$"
      ],
      "text/plain": [
       "                                 2\n",
       "                      \\Delta{}p⋅τ \n",
       "\\beta⁰ = \\Delta\\rho + ────────────\n",
       "                            2     \n",
       "                           c      "
      ]
     },
     "metadata": {},
     "output_type": "display_data"
    },
    {
     "name": "stdout",
     "output_type": "stream",
     "text": [
      "zero\n"
     ]
    },
    {
     "data": {
      "image/png": "[encoded data removed]",
      "text/latex": [
       "$$\\beta^0 = \\Delta\\gamma_e + \\frac{\\Delta{}p \\alpha}{c^{2}} \\tau$$"
      ],
      "text/plain": [
       "                         \\Delta{}p⋅α⋅τ\n",
       "\\beta⁰ = \\Delta\\gammaₑ + ─────────────\n",
       "                                2     \n",
       "                               c      "
      ]
     },
     "metadata": {},
     "output_type": "display_data"
    },
    {
     "name": "stdout",
     "output_type": "stream",
     "text": [
      "plus\n"
     ]
    },
    {
     "data": {
      "image/png": "[encoded data removed]",
      "text/latex": [
       "$$\\beta^+ = - \\frac{\\tau}{2 c^{2}} \\left(\\Delta{}p \\tau + \\Delta{}u c\\right)$$"
      ],
      "text/plain": [
       "         -τ⋅(\\Delta{}p⋅τ + \\Delta{}u⋅c) \n",
       "\\beta⁺ = ───────────────────────────────\n",
       "                          2             \n",
       "                       2⋅c              "
      ]
     },
     "metadata": {},
     "output_type": "display_data"
    }
   ],
   "source": [
    "for e in eigen:\n",
    "    print e.name\n",
    "    beta = e.l.dot(dq)\n",
    "    display(Eq(betas[e.d], simplify(beta)))"
   ]
  },
  {
   "cell_type": "markdown",
   "metadata": {},
   "source": [
    "------"
   ]
  },
  {
   "cell_type": "markdown",
   "metadata": {},
   "source": [
    "# Gray FLD Radiation Euler Equations with $(\\rho e)$\n",
    "\n",
    "Following Zhang et al. (2011), the equations of gray radiation hydrodynamics with primitive\n",
    "variables $q = (\\rho, u, p, (\\rho e)_g, E_r)^\\intercal$ are:\n",
    "\\begin{align}\n",
    "\\frac{\\partial \\rho}{\\partial t} &= -u\\frac{\\partial \\rho}{\\partial x}  - \\rho \\frac{\\partial u}{\\partial x} \\\\\n",
    "\\frac{\\partial u}{\\partial t} &= -u \\frac{\\partial u}{\\partial x} - \\frac{1}{\\rho} \\frac{\\partial p}{\\partial x}\n",
    "    - \\frac{\\lambda_f}{\\rho} \\frac{\\partial E_r}{\\partial x}\\\\\n",
    "\\frac{\\partial p}{\\partial t} &= -u \\frac{\\partial p}{\\partial x} - \\rho c_g^2 \\frac{\\partial u}{\\partial x} \\\\\n",
    "\\frac{\\partial (\\rho e)_g}{\\partial t} &= -u \\frac{\\partial (\\rho e)_g}{\\partial x} - \\rho h \\frac{\\partial u}{\\partial x} \\\\\n",
    "\\frac{\\partial E_r}{\\partial t} &= -\\frac{3-f}{2} E_r \\frac{\\partial u}{\\partial x} - \\left ( \\frac{3-f}{2} - \\lambda_f\\right ) u \\frac{\\partial E_r}{\\partial x}\n",
    "\\end{align}\n",
    "where $(\\rho e)_g$ is the gas internal energy density, $h_g$ is the gas specific enthalpy, $c_g$ is the gas sound speed (obeying $c_g^2 = \\Gamma_1 p /\\rho$), $E_r$ is the radiation energy density, $f$ is the Eddington factor, and $\\lambda_f$ is the flux limiter.\n",
    "\n",
    "Following Zhang et al., we make the approximation that \n",
    "$$\n",
    "\\frac{3-f}{2} = \\lambda_f + 1\n",
    "$$\n",
    "and then in vector form, we have:\n",
    "$$q_t + A(q) q_x = 0$$\n",
    "\n",
    "with the matrix $A(q)$:\n",
    "\n",
    "\n",
    "$$A(q) = \\left ( \\begin{array}{ccccc} u  & \\rho     & 0    & 0    & 0 \\\\                          \n",
    "                                      0  &  u       & 1/\\rho & 0   & \\lambda_f/\\rho\\\\                     \n",
    "                                      0  & \\rho c_g^2 & u       & 0 & 0 \\\\\n",
    "                                      0  & \\rho h_g   & 0       & u & 0 \\\\\n",
    "                                      0  & (3-f)E_r/2   & 0       & 0 & u\\end{array} \\right )  \n",
    "$$\n",
    "\n",
    "We can represent this matrix symbolically in SymPy and explore its eigensystem."
   ]
  },
  {
   "cell_type": "code",
   "execution_count": 16,
   "metadata": {
    "collapsed": false
   },
   "outputs": [
    {
     "data": {
      "image/png": "[encoded data removed]",
      "text/latex": [
       "$$\\left[\\begin{matrix}u & \\rho & 0 & 0 & 0\\\\0 & u & \\frac{1}{\\rho} & 0 & \\frac{\\lambda_f}{\\rho}\\\\0 & c_{g}^{2} \\rho & u & 0 & 0\\\\0 & h_{g} \\rho & 0 & u & 0\\\\0 & E_{r} \\left(\\lambda_f + 1\\right) & 0 & 0 & u\\end{matrix}\\right]$$"
      ],
      "text/plain": [
       "⎡u          ρ           0  0      0    ⎤\n",
       "⎢                                      ⎥\n",
       "⎢                       1     \\lambda_f⎥\n",
       "⎢0          u           ─  0  ─────────⎥\n",
       "⎢                       ρ         ρ    ⎥\n",
       "⎢                                      ⎥\n",
       "⎢            2                         ⎥\n",
       "⎢0        c_g ⋅ρ        u  0      0    ⎥\n",
       "⎢                                      ⎥\n",
       "⎢0        h_g⋅ρ         0  u      0    ⎥\n",
       "⎢                                      ⎥\n",
       "⎣0  Eᵣ⋅(\\lambda_f + 1)  0  0      u    ⎦"
      ]
     },
     "execution_count": 16,
     "metadata": {},
     "output_type": "execute_result"
    }
   ],
   "source": [
    "cg = symbols(r\"c_g\", real=True, positive=True)\n",
    "hg = symbols(r\"h_g\", real=True, positive=True)\n",
    "Er = symbols(r\"E_r\", real=True, positive=True)\n",
    "lf = symbols(r\"\\lambda_f\", real=True)\n",
    "f = symbols(\"f\", real=True, positive=True)\n",
    "\n",
    "A = Matrix([[u, rho, 0, 0, 0], \n",
    "            [0, u, rho**-1, 0, lf/rho], \n",
    "            [0, rho*cg**2, u, 0, 0], \n",
    "            [0, rho*hg, 0, u, 0],\n",
    "            [0, (lf+1)*Er, 0, 0, u]])\n",
    "A"
   ]
  },
  {
   "cell_type": "markdown",
   "metadata": {},
   "source": [
    "The eigenvalues are the speeds at which information propagates with.  SymPy returns them as a\n",
    "dictionary, giving the multiplicity for each eigenvalue."
   ]
  },
  {
   "cell_type": "code",
   "execution_count": 17,
   "metadata": {
    "collapsed": false
   },
   "outputs": [
    {
     "data": {
      "image/png": "[encoded data removed]",
      "text/latex": [
       "$$\\left \\{ u : 3, \\quad \\frac{1}{\\sqrt{\\rho}} \\left(\\sqrt{\\rho} u - \\sqrt{E_{r} \\lambda_f^{2} + E_{r} \\lambda_f + c_{g}^{2} \\rho}\\right) : 1, \\quad \\frac{1}{\\sqrt{\\rho}} \\left(\\sqrt{\\rho} u + \\sqrt{E_{r} \\lambda_f^{2} + E_{r} \\lambda_f + c_{g}^{2} \\rho}\\right) : 1\\right \\}$$"
      ],
      "text/plain": [
       "⎧                _______________________________________               _______\n",
       "⎪               ╱             2                     2                 ╱       \n",
       "⎨      √ρ⋅u - ╲╱  Eᵣ⋅\\lambda_f  + Eᵣ⋅\\lambda_f + c_g ⋅ρ      √ρ⋅u + ╲╱  Eᵣ⋅\\la\n",
       "⎪u: 3, ─────────────────────────────────────────────────: 1, ─────────────────\n",
       "⎩                              √ρ                                             \n",
       "\n",
       "________________________________   ⎫\n",
       "      2                     2      ⎪\n",
       "mbda_f  + Eᵣ⋅\\lambda_f + c_g ⋅ρ    ⎬\n",
       "────────────────────────────────: 1⎪\n",
       "       √ρ                          ⎭"
      ]
     },
     "execution_count": 17,
     "metadata": {},
     "output_type": "execute_result"
    }
   ],
   "source": [
    "A.eigenvals()"
   ]
  },
  {
   "cell_type": "markdown",
   "metadata": {},
   "source": [
    "We see that there are 3 eigenvalues $u$.  We identify the total sound speed (radiation + gas) as:\n",
    "$$c^2 = c_g^2 + (\\lambda_f + 1)\\frac{\\lambda_f E_r}{\\rho}$$\n",
    "We can simplify these by substituting in that relationship"
   ]
  },
  {
   "cell_type": "code",
   "execution_count": 18,
   "metadata": {
    "collapsed": false
   },
   "outputs": [
    {
     "data": {
      "image/png": "[encoded data removed]",
      "text/latex": [
       "$$u$$"
      ],
      "text/plain": [
       "u"
      ]
     },
     "metadata": {},
     "output_type": "display_data"
    },
    {
     "data": {
      "image/png": "[encoded data removed]",
      "text/latex": [
       "$$c + u$$"
      ],
      "text/plain": [
       "c + u"
      ]
     },
     "metadata": {},
     "output_type": "display_data"
    },
    {
     "data": {
      "image/png": "[encoded data removed]",
      "text/latex": [
       "$$- c + u$$"
      ],
      "text/plain": [
       "-c + u"
      ]
     },
     "metadata": {},
     "output_type": "display_data"
    }
   ],
   "source": [
    "q = c**2 - (lf +1)*lf*Er/rho\n",
    "q\n",
    "evs = A.eigenvals()\n",
    "for e in evs.keys():\n",
    "    display(powsimp(simplify(e.subs(cg**2, q))))"
   ]
  },
  {
   "cell_type": "markdown",
   "metadata": {},
   "source": [
    "We see that these are the same form of the eigenvalues for the pure hydrodynamics system"
   ]
  },
  {
   "cell_type": "markdown",
   "metadata": {},
   "source": [
    "## Eigenvectors"
   ]
  },
  {
   "cell_type": "code",
   "execution_count": 19,
   "metadata": {
    "collapsed": false
   },
   "outputs": [],
   "source": [
    "# we use the helper rountines above to find the orthogonal left and right eigenvectors\n",
    "eigen = eigensystem(A, suba=cg, subb=sqrt(q))"
   ]
  },
  {
   "cell_type": "code",
   "execution_count": 20,
   "metadata": {
    "collapsed": false
   },
   "outputs": [
    {
     "name": "stdout",
     "output_type": "stream",
     "text": [
      "minus\n"
     ]
    },
    {
     "data": {
      "image/png": "[encoded data removed]",
      "text/latex": [
       "$$\\left[\\begin{matrix}1\\\\- \\frac{c}{\\rho}\\\\\\frac{1}{\\rho} \\left(- E_{r} \\lambda_f^{2} - E_{r} \\lambda_f + c^{2} \\rho\\right)\\\\h_{g}\\\\\\frac{E_{r}}{\\rho} \\left(\\lambda_f + 1\\right)\\end{matrix}\\right]$$"
      ],
      "text/plain": [
       "⎡                  1                  ⎤\n",
       "⎢                                     ⎥\n",
       "⎢                 -c                  ⎥\n",
       "⎢                 ───                 ⎥\n",
       "⎢                  ρ                  ⎥\n",
       "⎢                                     ⎥\n",
       "⎢              2                   2  ⎥\n",
       "⎢- Eᵣ⋅\\lambda_f  - Eᵣ⋅\\lambda_f + c ⋅ρ⎥\n",
       "⎢─────────────────────────────────────⎥\n",
       "⎢                  ρ                  ⎥\n",
       "⎢                                     ⎥\n",
       "⎢                 h_g                 ⎥\n",
       "⎢                                     ⎥\n",
       "⎢         Eᵣ⋅(\\lambda_f + 1)          ⎥\n",
       "⎢         ──────────────────          ⎥\n",
       "⎣                 ρ                   ⎦"
      ]
     },
     "metadata": {},
     "output_type": "display_data"
    },
    {
     "data": {
      "image/png": "[encoded data removed]",
      "text/latex": [
       "$$\\left[\\begin{matrix}0 & - \\frac{\\rho}{2 c} & \\frac{1}{2 c^{2}} & 0 & \\frac{\\lambda_f}{2 c^{2}}\\end{matrix}\\right]$$"
      ],
      "text/plain": [
       "⎡   -ρ    1       \\lambda_f⎤\n",
       "⎢0  ───  ────  0  ─────────⎥\n",
       "⎢   2⋅c     2           2  ⎥\n",
       "⎣        2⋅c         2⋅c   ⎦"
      ]
     },
     "metadata": {},
     "output_type": "display_data"
    },
    {
     "name": "stdout",
     "output_type": "stream",
     "text": [
      "zero\n"
     ]
    },
    {
     "data": {
      "image/png": "[encoded data removed]",
      "text/latex": [
       "$$\\left[\\begin{matrix}1\\\\0\\\\0\\\\0\\\\0\\end{matrix}\\right]$$"
      ],
      "text/plain": [
       "⎡1⎤\n",
       "⎢ ⎥\n",
       "⎢0⎥\n",
       "⎢ ⎥\n",
       "⎢0⎥\n",
       "⎢ ⎥\n",
       "⎢0⎥\n",
       "⎢ ⎥\n",
       "⎣0⎦"
      ]
     },
     "metadata": {},
     "output_type": "display_data"
    },
    {
     "data": {
      "image/png": "[encoded data removed]",
      "text/latex": [
       "$$\\left[\\begin{matrix}1 & 0 & - \\frac{1}{c^{2}} & 0 & - \\frac{\\lambda_f}{c^{2}}\\end{matrix}\\right]$$"
      ],
      "text/plain": [
       "⎡      -1      -\\lambda_f ⎤\n",
       "⎢1  0  ───  0  ───────────⎥\n",
       "⎢        2           2    ⎥\n",
       "⎣       c           c     ⎦"
      ]
     },
     "metadata": {},
     "output_type": "display_data"
    },
    {
     "name": "stdout",
     "output_type": "stream",
     "text": [
      "zero\n"
     ]
    },
    {
     "data": {
      "image/png": "[encoded data removed]",
      "text/latex": [
       "$$\\left[\\begin{matrix}0\\\\0\\\\0\\\\1\\\\0\\end{matrix}\\right]$$"
      ],
      "text/plain": [
       "⎡0⎤\n",
       "⎢ ⎥\n",
       "⎢0⎥\n",
       "⎢ ⎥\n",
       "⎢0⎥\n",
       "⎢ ⎥\n",
       "⎢1⎥\n",
       "⎢ ⎥\n",
       "⎣0⎦"
      ]
     },
     "metadata": {},
     "output_type": "display_data"
    },
    {
     "data": {
      "image/png": "[encoded data removed]",
      "text/latex": [
       "$$\\left[\\begin{matrix}0 & 0 & - \\frac{h_{g}}{c^{2}} & 1 & - \\frac{\\lambda_f h_{g}}{c^{2}}\\end{matrix}\\right]$$"
      ],
      "text/plain": [
       "⎡      -h_g      -\\lambda_f⋅h_g ⎤\n",
       "⎢0  0  ─────  1  ───────────────⎥\n",
       "⎢         2              2      ⎥\n",
       "⎣        c              c       ⎦"
      ]
     },
     "metadata": {},
     "output_type": "display_data"
    },
    {
     "name": "stdout",
     "output_type": "stream",
     "text": [
      "zero\n"
     ]
    },
    {
     "data": {
      "image/png": "[encoded data removed]",
      "text/latex": [
       "$$\\left[\\begin{matrix}0\\\\0\\\\- \\lambda_f\\\\0\\\\1\\end{matrix}\\right]$$"
      ],
      "text/plain": [
       "⎡    0     ⎤\n",
       "⎢          ⎥\n",
       "⎢    0     ⎥\n",
       "⎢          ⎥\n",
       "⎢-\\lambda_f⎥\n",
       "⎢          ⎥\n",
       "⎢    0     ⎥\n",
       "⎢          ⎥\n",
       "⎣    1     ⎦"
      ]
     },
     "metadata": {},
     "output_type": "display_data"
    },
    {
     "data": {
      "image/png": "[encoded data removed]",
      "text/latex": [
       "$$\\left[\\begin{matrix}0 & 0 & - \\frac{E_{r} \\left(\\lambda_f + 1\\right)}{c^{2} \\rho} & 0 & \\frac{1}{c^{2} \\rho} \\left(- E_{r} \\lambda_f^{2} - E_{r} \\lambda_f + c^{2} \\rho\\right)\\end{matrix}\\right]$$"
      ],
      "text/plain": [
       "⎡                                             2                   2  ⎤\n",
       "⎢      -Eᵣ⋅(\\lambda_f + 1)      - Eᵣ⋅\\lambda_f  - Eᵣ⋅\\lambda_f + c ⋅ρ⎥\n",
       "⎢0  0  ────────────────────  0  ─────────────────────────────────────⎥\n",
       "⎢               2                                 2                  ⎥\n",
       "⎣              c ⋅ρ                              c ⋅ρ                ⎦"
      ]
     },
     "metadata": {},
     "output_type": "display_data"
    },
    {
     "name": "stdout",
     "output_type": "stream",
     "text": [
      "plus\n"
     ]
    },
    {
     "data": {
      "image/png": "[encoded data removed]",
      "text/latex": [
       "$$\\left[\\begin{matrix}1\\\\\\frac{c}{\\rho}\\\\\\frac{1}{\\rho} \\left(- E_{r} \\lambda_f^{2} - E_{r} \\lambda_f + c^{2} \\rho\\right)\\\\h_{g}\\\\\\frac{E_{r}}{\\rho} \\left(\\lambda_f + 1\\right)\\end{matrix}\\right]$$"
      ],
      "text/plain": [
       "⎡                  1                  ⎤\n",
       "⎢                                     ⎥\n",
       "⎢                  c                  ⎥\n",
       "⎢                  ─                  ⎥\n",
       "⎢                  ρ                  ⎥\n",
       "⎢                                     ⎥\n",
       "⎢              2                   2  ⎥\n",
       "⎢- Eᵣ⋅\\lambda_f  - Eᵣ⋅\\lambda_f + c ⋅ρ⎥\n",
       "⎢─────────────────────────────────────⎥\n",
       "⎢                  ρ                  ⎥\n",
       "⎢                                     ⎥\n",
       "⎢                 h_g                 ⎥\n",
       "⎢                                     ⎥\n",
       "⎢         Eᵣ⋅(\\lambda_f + 1)          ⎥\n",
       "⎢         ──────────────────          ⎥\n",
       "⎣                 ρ                   ⎦"
      ]
     },
     "metadata": {},
     "output_type": "display_data"
    },
    {
     "data": {
      "image/png": "[encoded data removed]",
      "text/latex": [
       "$$\\left[\\begin{matrix}0 & \\frac{\\rho}{2 c} & \\frac{1}{2 c^{2}} & 0 & \\frac{\\lambda_f}{2 c^{2}}\\end{matrix}\\right]$$"
      ],
      "text/plain": [
       "⎡    ρ    1       \\lambda_f⎤\n",
       "⎢0  ───  ────  0  ─────────⎥\n",
       "⎢   2⋅c     2           2  ⎥\n",
       "⎣        2⋅c         2⋅c   ⎦"
      ]
     },
     "metadata": {},
     "output_type": "display_data"
    }
   ],
   "source": [
    "# printing them out for inspection\n",
    "for e in eigen:\n",
    "    print(e.name)\n",
    "    display(e.r)\n",
    "    display(simplify(e.l))"
   ]
  },
  {
   "cell_type": "markdown",
   "metadata": {},
   "source": [
    "## $\\beta$'s"
   ]
  },
  {
   "cell_type": "markdown",
   "metadata": {},
   "source": [
    "The tracing projects the primitive variables into characteristic variables by defining\n",
    "$$\n",
    "\\Delta q = \\left ( \\begin{array}{c} \\Delta \\rho \\\\ \\Delta u \\\\ \\Delta p \\\\ \\Delta \\gamma_e \\end{array} \\right )\n",
    "$$\n",
    "and then\n",
    "$\\beta^\\nu = l^\\nu \\cdot \\Delta q$"
   ]
  },
  {
   "cell_type": "code",
   "execution_count": 21,
   "metadata": {
    "collapsed": false
   },
   "outputs": [
    {
     "data": {
      "image/png": "[encoded data removed]",
      "text/latex": [
       "$$\\left[\\begin{matrix}\\Delta\\rho\\\\\\Delta{}u\\\\\\Delta{}p\\\\\\Delta(\\rho{}e)\\\\\\Delta{}E_r\\end{matrix}\\right]$$"
      ],
      "text/plain": [
       "⎡  \\Delta\\rho   ⎤\n",
       "⎢               ⎥\n",
       "⎢   \\Delta{}u   ⎥\n",
       "⎢               ⎥\n",
       "⎢   \\Delta{}p   ⎥\n",
       "⎢               ⎥\n",
       "⎢\\Delta(\\rho{}e)⎥\n",
       "⎢               ⎥\n",
       "⎣  \\Delta{}Eᵣ   ⎦"
      ]
     },
     "execution_count": 21,
     "metadata": {},
     "output_type": "execute_result"
    }
   ],
   "source": [
    "dEr = symbols(r\"\\Delta{}E_r\")\n",
    "\n",
    "dq = Matrix([[dr, du, dp, dre, dEr]]).transpose()\n",
    "dq"
   ]
  },
  {
   "cell_type": "code",
   "execution_count": 22,
   "metadata": {
    "collapsed": false
   },
   "outputs": [
    {
     "name": "stdout",
     "output_type": "stream",
     "text": [
      "minus\n"
     ]
    },
    {
     "data": {
      "image/png": "[encoded data removed]",
      "text/latex": [
       "$$\\beta^- = \\frac{1}{2 c^{2}} \\left(\\Delta{}E_r \\lambda_f + \\Delta{}p - \\Delta{}u c \\rho\\right)$$"
      ],
      "text/plain": [
       "         \\Delta{}Eᵣ⋅\\lambda_f + \\Delta{}p - \\Delta{}u⋅c⋅ρ\n",
       "\\beta⁻ = ────────────────────────────────────────────────\n",
       "                                  2                      \n",
       "                               2⋅c                       "
      ]
     },
     "metadata": {},
     "output_type": "display_data"
    },
    {
     "name": "stdout",
     "output_type": "stream",
     "text": [
      "zero\n"
     ]
    },
    {
     "data": {
      "image/png": "[encoded data removed]",
      "text/latex": [
       "$$\\beta^0 = \\frac{1}{c^{2}} \\left(\\Delta\\rho c^{2} - \\Delta{}E_r \\lambda_f - \\Delta{}p\\right)$$"
      ],
      "text/plain": [
       "                     2                                   \n",
       "         \\Delta\\rho⋅c  - \\Delta{}Eᵣ⋅\\lambda_f - \\Delta{}p\n",
       "\\beta⁰ = ────────────────────────────────────────────────\n",
       "                                 2                       \n",
       "                                c                        "
      ]
     },
     "metadata": {},
     "output_type": "display_data"
    },
    {
     "name": "stdout",
     "output_type": "stream",
     "text": [
      "zero\n"
     ]
    },
    {
     "data": {
      "image/png": "[encoded data removed]",
      "text/latex": [
       "$$\\beta^0 = \\frac{1}{c^{2}} \\left(\\Delta(\\rho{}e) c^{2} - \\Delta{}E_r \\lambda_f h_{g} - \\Delta{}p h_{g}\\right)$$"
      ],
      "text/plain": [
       "                          2                                           \n",
       "         \\Delta(\\rho{}e)⋅c  - \\Delta{}Eᵣ⋅\\lambda_f⋅h_g - \\Delta{}p⋅h_g\n",
       "\\beta⁰ = ─────────────────────────────────────────────────────────────\n",
       "                                        2                             \n",
       "                                       c                              "
      ]
     },
     "metadata": {},
     "output_type": "display_data"
    },
    {
     "name": "stdout",
     "output_type": "stream",
     "text": [
      "zero\n"
     ]
    },
    {
     "data": {
      "image/png": "[encoded data removed]",
      "text/latex": [
       "$$\\beta^0 = \\frac{1}{c^{2} \\rho} \\left(- E_{r} \\Delta{}E_r \\lambda_f^{2} - E_{r} \\Delta{}E_r \\lambda_f - E_{r} \\Delta{}p \\lambda_f - E_{r} \\Delta{}p + \\Delta{}E_r c^{2} \\rho\\right)$$"
      ],
      "text/plain": [
       "                                  2                                           \n",
       "         - Eᵣ⋅\\Delta{}Eᵣ⋅\\lambda_f  - Eᵣ⋅\\Delta{}Eᵣ⋅\\lambda_f - Eᵣ⋅\\Delta{}p⋅\\\n",
       "\\beta⁰ = ─────────────────────────────────────────────────────────────────────\n",
       "                                                               2              \n",
       "                                                              c ⋅ρ            \n",
       "\n",
       "                                      2  \n",
       "lambda_f - Eᵣ⋅\\Delta{}p + \\Delta{}Eᵣ⋅c ⋅ρ\n",
       "─────────────────────────────────────────\n",
       "                                         \n",
       "                                         "
      ]
     },
     "metadata": {},
     "output_type": "display_data"
    },
    {
     "name": "stdout",
     "output_type": "stream",
     "text": [
      "plus\n"
     ]
    },
    {
     "data": {
      "image/png": "[encoded data removed]",
      "text/latex": [
       "$$\\beta^+ = \\frac{1}{2 c^{2}} \\left(\\Delta{}E_r \\lambda_f + \\Delta{}p + \\Delta{}u c \\rho\\right)$$"
      ],
      "text/plain": [
       "         \\Delta{}Eᵣ⋅\\lambda_f + \\Delta{}p + \\Delta{}u⋅c⋅ρ\n",
       "\\beta⁺ = ────────────────────────────────────────────────\n",
       "                                  2                      \n",
       "                               2⋅c                       "
      ]
     },
     "metadata": {},
     "output_type": "display_data"
    }
   ],
   "source": [
    "for e in eigen:\n",
    "    print e.name\n",
    "    beta = e.l.dot(dq)\n",
    "    display(Eq(betas[e.d], simplify(beta)))"
   ]
  },
  {
   "cell_type": "markdown",
   "metadata": {},
   "source": [
    "------"
   ]
  },
  {
   "cell_type": "markdown",
   "metadata": {
    "collapsed": true
   },
   "source": [
    "# 2-d system"
   ]
  },
  {
   "cell_type": "code",
   "execution_count": 23,
   "metadata": {
    "collapsed": false
   },
   "outputs": [
    {
     "data": {
      "image/png": "[encoded data removed]",
      "text/latex": [
       "$$\\left[\\begin{matrix}u & \\rho & 0 & 0\\\\0 & u & 0 & \\frac{1}{\\rho}\\\\0 & 0 & u & 0\\\\0 & c^{2} \\rho & 0 & u\\end{matrix}\\right]$$"
      ],
      "text/plain": [
       "⎡u   ρ    0  0⎤\n",
       "⎢             ⎥\n",
       "⎢            1⎥\n",
       "⎢0   u    0  ─⎥\n",
       "⎢            ρ⎥\n",
       "⎢             ⎥\n",
       "⎢0   0    u  0⎥\n",
       "⎢             ⎥\n",
       "⎢    2        ⎥\n",
       "⎣0  c ⋅ρ  0  u⎦"
      ]
     },
     "execution_count": 23,
     "metadata": {},
     "output_type": "execute_result"
    }
   ],
   "source": [
    "A = Matrix([[u, rho, 0, 0], [0, u, 0, rho**-1], [0,0, u, 0], [0, c**2 * rho, 0, u]])\n",
    "A"
   ]
  },
  {
   "cell_type": "code",
   "execution_count": 24,
   "metadata": {
    "collapsed": false
   },
   "outputs": [
    {
     "data": {
      "image/png": "[encoded data removed]",
      "text/latex": [
       "$$\\left \\{ u : 2, \\quad - c + u : 1, \\quad c + u : 1\\right \\}$$"
      ],
      "text/plain": [
       "{u: 2, -c + u: 1, c + u: 1}"
      ]
     },
     "execution_count": 24,
     "metadata": {},
     "output_type": "execute_result"
    }
   ],
   "source": [
    "A.eigenvals()"
   ]
  },
  {
   "cell_type": "markdown",
   "metadata": {},
   "source": [
    "## Eigenvectors"
   ]
  },
  {
   "cell_type": "code",
   "execution_count": 25,
   "metadata": {
    "collapsed": false
   },
   "outputs": [],
   "source": [
    "# we use the helper rountines above to find the orthogonal left and right eigenvectors\n",
    "eigen = eigensystem(A)"
   ]
  },
  {
   "cell_type": "code",
   "execution_count": 26,
   "metadata": {
    "collapsed": false
   },
   "outputs": [
    {
     "name": "stdout",
     "output_type": "stream",
     "text": [
      "minus\n"
     ]
    },
    {
     "data": {
      "image/png": "[encoded data removed]",
      "text/latex": [
       "$$\\left[\\begin{matrix}1\\\\- \\frac{c}{\\rho}\\\\0\\\\c^{2}\\end{matrix}\\right]$$"
      ],
      "text/plain": [
       "⎡ 1 ⎤\n",
       "⎢   ⎥\n",
       "⎢-c ⎥\n",
       "⎢───⎥\n",
       "⎢ ρ ⎥\n",
       "⎢   ⎥\n",
       "⎢ 0 ⎥\n",
       "⎢   ⎥\n",
       "⎢ 2 ⎥\n",
       "⎣c  ⎦"
      ]
     },
     "metadata": {},
     "output_type": "display_data"
    },
    {
     "data": {
      "image/png": "[encoded data removed]",
      "text/latex": [
       "$$\\left[\\begin{matrix}0 & - \\frac{\\rho}{2 c} & 0 & \\frac{1}{2 c^{2}}\\end{matrix}\\right]$$"
      ],
      "text/plain": [
       "⎡   -ρ       1  ⎤\n",
       "⎢0  ───  0  ────⎥\n",
       "⎢   2⋅c        2⎥\n",
       "⎣           2⋅c ⎦"
      ]
     },
     "metadata": {},
     "output_type": "display_data"
    },
    {
     "name": "stdout",
     "output_type": "stream",
     "text": [
      "zero\n"
     ]
    },
    {
     "data": {
      "image/png": "[encoded data removed]",
      "text/latex": [
       "$$\\left[\\begin{matrix}1\\\\0\\\\0\\\\0\\end{matrix}\\right]$$"
      ],
      "text/plain": [
       "⎡1⎤\n",
       "⎢ ⎥\n",
       "⎢0⎥\n",
       "⎢ ⎥\n",
       "⎢0⎥\n",
       "⎢ ⎥\n",
       "⎣0⎦"
      ]
     },
     "metadata": {},
     "output_type": "display_data"
    },
    {
     "data": {
      "image/png": "[encoded data removed]",
      "text/latex": [
       "$$\\left[\\begin{matrix}1 & 0 & 0 & - \\frac{1}{c^{2}}\\end{matrix}\\right]$$"
      ],
      "text/plain": [
       "⎡         -1 ⎤\n",
       "⎢1  0  0  ───⎥\n",
       "⎢           2⎥\n",
       "⎣          c ⎦"
      ]
     },
     "metadata": {},
     "output_type": "display_data"
    },
    {
     "name": "stdout",
     "output_type": "stream",
     "text": [
      "zero\n"
     ]
    },
    {
     "data": {
      "image/png": "[encoded data removed]",
      "text/latex": [
       "$$\\left[\\begin{matrix}0\\\\0\\\\1\\\\0\\end{matrix}\\right]$$"
      ],
      "text/plain": [
       "⎡0⎤\n",
       "⎢ ⎥\n",
       "⎢0⎥\n",
       "⎢ ⎥\n",
       "⎢1⎥\n",
       "⎢ ⎥\n",
       "⎣0⎦"
      ]
     },
     "metadata": {},
     "output_type": "display_data"
    },
    {
     "data": {
      "image/png": "[encoded data removed]",
      "text/latex": [
       "$$\\left[\\begin{matrix}0 & 0 & 1 & 0\\end{matrix}\\right]$$"
      ],
      "text/plain": [
       "[0  0  1  0]"
      ]
     },
     "metadata": {},
     "output_type": "display_data"
    },
    {
     "name": "stdout",
     "output_type": "stream",
     "text": [
      "plus\n"
     ]
    },
    {
     "data": {
      "image/png": "[encoded data removed]",
      "text/latex": [
       "$$\\left[\\begin{matrix}1\\\\\\frac{c}{\\rho}\\\\0\\\\c^{2}\\end{matrix}\\right]$$"
      ],
      "text/plain": [
       "⎡1 ⎤\n",
       "⎢  ⎥\n",
       "⎢c ⎥\n",
       "⎢─ ⎥\n",
       "⎢ρ ⎥\n",
       "⎢  ⎥\n",
       "⎢0 ⎥\n",
       "⎢  ⎥\n",
       "⎢ 2⎥\n",
       "⎣c ⎦"
      ]
     },
     "metadata": {},
     "output_type": "display_data"
    },
    {
     "data": {
      "image/png": "[encoded data removed]",
      "text/latex": [
       "$$\\left[\\begin{matrix}0 & \\frac{\\rho}{2 c} & 0 & \\frac{1}{2 c^{2}}\\end{matrix}\\right]$$"
      ],
      "text/plain": [
       "⎡    ρ       1  ⎤\n",
       "⎢0  ───  0  ────⎥\n",
       "⎢   2⋅c        2⎥\n",
       "⎣           2⋅c ⎦"
      ]
     },
     "metadata": {},
     "output_type": "display_data"
    }
   ],
   "source": [
    "# printing them out for inspection\n",
    "for e in eigen:\n",
    "    print(e.name)\n",
    "    display(e.r, e.l)"
   ]
  },
  {
   "cell_type": "code",
   "execution_count": null,
   "metadata": {
    "collapsed": false
   },
   "outputs": [],
   "source": []
  },
  {
   "cell_type": "code",
   "execution_count": null,
   "metadata": {
    "collapsed": true
   },
   "outputs": [],
   "source": []
  }
 ],
 "metadata": {
  "kernelspec": {
   "display_name": "Python 2",
   "language": "python",
   "name": "python2"
  },
  "language_info": {
   "codemirror_mode": {
    "name": "ipython",
    "version": 2
   },
   "file_extension": ".py",
   "mimetype": "text/x-python",
   "name": "python",
   "nbconvert_exporter": "python",
   "pygments_lexer": "ipython2",
   "version": "2.7.12"
  }
 },
 "nbformat": 4,
 "nbformat_minor": 0
}
